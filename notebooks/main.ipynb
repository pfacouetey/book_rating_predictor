{
 "cells": [
  {
   "metadata": {},
   "cell_type": "markdown",
   "source": "## Import libraries and user-defined functions",
   "id": "346df160f773b3d5"
  },
  {
   "metadata": {
    "ExecuteTime": {
     "end_time": "2025-02-01T20:33:05.655901Z",
     "start_time": "2025-02-01T20:32:50.192158Z"
    }
   },
   "cell_type": "code",
   "source": [
    "import gc\n",
    "import mlflow\n",
    "import numpy as np\n",
    "import pandas as pd\n",
    "import seaborn as sns\n",
    "from scipy import stats\n",
    "from tabulate import tabulate\n",
    "import matplotlib.pyplot as plt\n",
    "from scipy.stats import spearmanr, kendalltau\n",
    "\n",
    "from src.loaders.data_loader import load_original_books_dataset\n",
    "from src.transformers.data_transformer import transform_books_dataset\n"
   ],
   "id": "9d9bbbbb1322d252",
   "outputs": [
    {
     "name": "stderr",
     "output_type": "stream",
     "text": [
      "[nltk_data] Downloading package punkt to\n",
      "[nltk_data]     C:\\Users\\pfaco\\AppData\\Roaming\\nltk_data...\n",
      "[nltk_data]   Package punkt is already up-to-date!\n",
      "[nltk_data] Downloading package stopwords to\n",
      "[nltk_data]     C:\\Users\\pfaco\\AppData\\Roaming\\nltk_data...\n",
      "[nltk_data]   Package stopwords is already up-to-date!\n",
      "[nltk_data] Downloading package punkt_tab to\n",
      "[nltk_data]     C:\\Users\\pfaco\\AppData\\Roaming\\nltk_data...\n",
      "[nltk_data]   Package punkt_tab is already up-to-date!\n"
     ]
    }
   ],
   "execution_count": 1
  },
  {
   "metadata": {
    "ExecuteTime": {
     "end_time": "2025-01-29T22:31:41.477715Z",
     "start_time": "2025-01-29T22:31:41.473717Z"
    }
   },
   "cell_type": "code",
   "source": "",
   "id": "b246e98337ca6186",
   "outputs": [],
   "execution_count": null
  },
  {
   "metadata": {},
   "cell_type": "markdown",
   "source": "## Import dataset",
   "id": "ab5e3e4f7c734a9a"
  },
  {
   "metadata": {
    "ExecuteTime": {
     "end_time": "2025-02-01T20:33:05.764867Z",
     "start_time": "2025-02-01T20:33:05.671970Z"
    }
   },
   "cell_type": "code",
   "source": [
    "original_books_df = load_original_books_dataset()\n",
    "original_books_df.sample(n=5, random_state=123)\n"
   ],
   "id": "521517f37ee50e16",
   "outputs": [
    {
     "data": {
      "text/plain": [
       "             isbn13                     authors  average_rating  \\\n",
       "6391  9780439651363               Gordon Korman            4.05   \n",
       "628   9780375415029  Raymond Chandler/Tom Hiney            4.45   \n",
       "10    9780739322208   Douglas Adams/Stephen Fry            4.22   \n",
       "1001  9780517201664          Colleen McCullough            3.67   \n",
       "6627  9780812976151               E.L. Doctorow            3.80   \n",
       "\n",
       "      publication_year                      publisher  num_pages  \\\n",
       "6391              2005               Scholastic  Inc.        154   \n",
       "628               2002             Everyman's Library       1016   \n",
       "10                2005             Random House Audio          6   \n",
       "1001              1999                          Wings        768   \n",
       "6627              2006  Random House Trade Paperbacks        363   \n",
       "\n",
       "      ratings_count  text_reviews_count  \n",
       "6391           4598                 371  \n",
       "628             241                  11  \n",
       "10             1266                 253  \n",
       "1001             39                   7  \n",
       "6627           8266                 831  "
      ],
      "text/html": [
       "<div>\n",
       "<style scoped>\n",
       "    .dataframe tbody tr th:only-of-type {\n",
       "        vertical-align: middle;\n",
       "    }\n",
       "\n",
       "    .dataframe tbody tr th {\n",
       "        vertical-align: top;\n",
       "    }\n",
       "\n",
       "    .dataframe thead th {\n",
       "        text-align: right;\n",
       "    }\n",
       "</style>\n",
       "<table border=\"1\" class=\"dataframe\">\n",
       "  <thead>\n",
       "    <tr style=\"text-align: right;\">\n",
       "      <th></th>\n",
       "      <th>isbn13</th>\n",
       "      <th>authors</th>\n",
       "      <th>average_rating</th>\n",
       "      <th>publication_year</th>\n",
       "      <th>publisher</th>\n",
       "      <th>num_pages</th>\n",
       "      <th>ratings_count</th>\n",
       "      <th>text_reviews_count</th>\n",
       "    </tr>\n",
       "  </thead>\n",
       "  <tbody>\n",
       "    <tr>\n",
       "      <th>6391</th>\n",
       "      <td>9780439651363</td>\n",
       "      <td>Gordon Korman</td>\n",
       "      <td>4.05</td>\n",
       "      <td>2005</td>\n",
       "      <td>Scholastic  Inc.</td>\n",
       "      <td>154</td>\n",
       "      <td>4598</td>\n",
       "      <td>371</td>\n",
       "    </tr>\n",
       "    <tr>\n",
       "      <th>628</th>\n",
       "      <td>9780375415029</td>\n",
       "      <td>Raymond Chandler/Tom Hiney</td>\n",
       "      <td>4.45</td>\n",
       "      <td>2002</td>\n",
       "      <td>Everyman's Library</td>\n",
       "      <td>1016</td>\n",
       "      <td>241</td>\n",
       "      <td>11</td>\n",
       "    </tr>\n",
       "    <tr>\n",
       "      <th>10</th>\n",
       "      <td>9780739322208</td>\n",
       "      <td>Douglas Adams/Stephen Fry</td>\n",
       "      <td>4.22</td>\n",
       "      <td>2005</td>\n",
       "      <td>Random House Audio</td>\n",
       "      <td>6</td>\n",
       "      <td>1266</td>\n",
       "      <td>253</td>\n",
       "    </tr>\n",
       "    <tr>\n",
       "      <th>1001</th>\n",
       "      <td>9780517201664</td>\n",
       "      <td>Colleen McCullough</td>\n",
       "      <td>3.67</td>\n",
       "      <td>1999</td>\n",
       "      <td>Wings</td>\n",
       "      <td>768</td>\n",
       "      <td>39</td>\n",
       "      <td>7</td>\n",
       "    </tr>\n",
       "    <tr>\n",
       "      <th>6627</th>\n",
       "      <td>9780812976151</td>\n",
       "      <td>E.L. Doctorow</td>\n",
       "      <td>3.80</td>\n",
       "      <td>2006</td>\n",
       "      <td>Random House Trade Paperbacks</td>\n",
       "      <td>363</td>\n",
       "      <td>8266</td>\n",
       "      <td>831</td>\n",
       "    </tr>\n",
       "  </tbody>\n",
       "</table>\n",
       "</div>"
      ]
     },
     "execution_count": 2,
     "metadata": {},
     "output_type": "execute_result"
    }
   ],
   "execution_count": 2
  },
  {
   "metadata": {
    "ExecuteTime": {
     "end_time": "2025-01-29T22:31:41.660643Z",
     "start_time": "2025-01-29T22:31:41.657207Z"
    }
   },
   "cell_type": "code",
   "source": "",
   "id": "724959bcdca31b1a",
   "outputs": [],
   "execution_count": null
  },
  {
   "metadata": {},
   "cell_type": "markdown",
   "source": "## Data analysis - Part 1",
   "id": "1e5877b2ce99c566"
  },
  {
   "metadata": {
    "ExecuteTime": {
     "end_time": "2025-02-01T20:33:06.223965Z",
     "start_time": "2025-02-01T20:33:06.193844Z"
    }
   },
   "cell_type": "code",
   "source": "original_books_df.describe()\n",
   "id": "4f4a3dee049c0146",
   "outputs": [
    {
     "data": {
      "text/plain": [
       "       average_rating  publication_year     num_pages  ratings_count  \\\n",
       "count    11127.000000      11127.000000  11127.000000   1.112700e+04   \n",
       "mean         3.933631       2000.167520    336.376921   1.793641e+04   \n",
       "std          0.352445          8.248836    241.127305   1.124794e+05   \n",
       "min          0.000000       1900.000000      0.000000   0.000000e+00   \n",
       "25%          3.770000       1998.000000    192.000000   1.040000e+02   \n",
       "50%          3.960000       2003.000000    299.000000   7.450000e+02   \n",
       "75%          4.135000       2005.000000    416.000000   4.993500e+03   \n",
       "max          5.000000       2020.000000   6576.000000   4.597666e+06   \n",
       "\n",
       "       text_reviews_count  \n",
       "count        11127.000000  \n",
       "mean           541.854498  \n",
       "std           2576.176608  \n",
       "min              0.000000  \n",
       "25%              9.000000  \n",
       "50%             46.000000  \n",
       "75%            237.500000  \n",
       "max          94265.000000  "
      ],
      "text/html": [
       "<div>\n",
       "<style scoped>\n",
       "    .dataframe tbody tr th:only-of-type {\n",
       "        vertical-align: middle;\n",
       "    }\n",
       "\n",
       "    .dataframe tbody tr th {\n",
       "        vertical-align: top;\n",
       "    }\n",
       "\n",
       "    .dataframe thead th {\n",
       "        text-align: right;\n",
       "    }\n",
       "</style>\n",
       "<table border=\"1\" class=\"dataframe\">\n",
       "  <thead>\n",
       "    <tr style=\"text-align: right;\">\n",
       "      <th></th>\n",
       "      <th>average_rating</th>\n",
       "      <th>publication_year</th>\n",
       "      <th>num_pages</th>\n",
       "      <th>ratings_count</th>\n",
       "      <th>text_reviews_count</th>\n",
       "    </tr>\n",
       "  </thead>\n",
       "  <tbody>\n",
       "    <tr>\n",
       "      <th>count</th>\n",
       "      <td>11127.000000</td>\n",
       "      <td>11127.000000</td>\n",
       "      <td>11127.000000</td>\n",
       "      <td>1.112700e+04</td>\n",
       "      <td>11127.000000</td>\n",
       "    </tr>\n",
       "    <tr>\n",
       "      <th>mean</th>\n",
       "      <td>3.933631</td>\n",
       "      <td>2000.167520</td>\n",
       "      <td>336.376921</td>\n",
       "      <td>1.793641e+04</td>\n",
       "      <td>541.854498</td>\n",
       "    </tr>\n",
       "    <tr>\n",
       "      <th>std</th>\n",
       "      <td>0.352445</td>\n",
       "      <td>8.248836</td>\n",
       "      <td>241.127305</td>\n",
       "      <td>1.124794e+05</td>\n",
       "      <td>2576.176608</td>\n",
       "    </tr>\n",
       "    <tr>\n",
       "      <th>min</th>\n",
       "      <td>0.000000</td>\n",
       "      <td>1900.000000</td>\n",
       "      <td>0.000000</td>\n",
       "      <td>0.000000e+00</td>\n",
       "      <td>0.000000</td>\n",
       "    </tr>\n",
       "    <tr>\n",
       "      <th>25%</th>\n",
       "      <td>3.770000</td>\n",
       "      <td>1998.000000</td>\n",
       "      <td>192.000000</td>\n",
       "      <td>1.040000e+02</td>\n",
       "      <td>9.000000</td>\n",
       "    </tr>\n",
       "    <tr>\n",
       "      <th>50%</th>\n",
       "      <td>3.960000</td>\n",
       "      <td>2003.000000</td>\n",
       "      <td>299.000000</td>\n",
       "      <td>7.450000e+02</td>\n",
       "      <td>46.000000</td>\n",
       "    </tr>\n",
       "    <tr>\n",
       "      <th>75%</th>\n",
       "      <td>4.135000</td>\n",
       "      <td>2005.000000</td>\n",
       "      <td>416.000000</td>\n",
       "      <td>4.993500e+03</td>\n",
       "      <td>237.500000</td>\n",
       "    </tr>\n",
       "    <tr>\n",
       "      <th>max</th>\n",
       "      <td>5.000000</td>\n",
       "      <td>2020.000000</td>\n",
       "      <td>6576.000000</td>\n",
       "      <td>4.597666e+06</td>\n",
       "      <td>94265.000000</td>\n",
       "    </tr>\n",
       "  </tbody>\n",
       "</table>\n",
       "</div>"
      ]
     },
     "execution_count": 3,
     "metadata": {},
     "output_type": "execute_result"
    }
   ],
   "execution_count": 3
  },
  {
   "metadata": {},
   "cell_type": "markdown",
   "source": [
    "- Books with 0 values found for 'average_rating', 'num_pages' and 'ratings_count' are likely errors in the data.\n",
    "- Books with 0 values found for 'average_rating' will be discarded, whereas for 'num_pages' and 'ratings_count' we will try to correct them through our book_scrapper function implemented in data_transformer.py when possible.\n",
    "- 0 values for 'text_reviews_count' are possible, and won't be taken as errors in the data.\n",
    "- Having old books (publication_year < 2003) up to 50% in the dataset shows that we aren't just dealing with recent literature."
   ],
   "id": "2741215f717bfd97"
  },
  {
   "metadata": {
    "ExecuteTime": {
     "end_time": "2025-01-29T22:31:41.886563Z",
     "start_time": "2025-01-29T22:31:41.882450Z"
    }
   },
   "cell_type": "code",
   "source": "",
   "id": "72feb55d437df3d9",
   "outputs": [],
   "execution_count": null
  },
  {
   "metadata": {},
   "cell_type": "markdown",
   "source": "## Feature engineering",
   "id": "cf98c54249879d55"
  },
  {
   "metadata": {},
   "cell_type": "markdown",
   "source": "This step can take some time as it involves processing some textual information of book details. Please be patient while running this part.",
   "id": "20cfa0ec56edc51b"
  },
  {
   "metadata": {
    "ExecuteTime": {
     "end_time": "2025-02-01T20:37:16.558765Z",
     "start_time": "2025-02-01T20:33:06.293310Z"
    }
   },
   "cell_type": "code",
   "source": "data = await transform_books_dataset(books_df=original_books_df)\n",
   "id": "ce41de86fe5300b3",
   "outputs": [
    {
     "data": {
      "text/plain": [
       "Batches:   0%|          | 0/217 [00:00<?, ?it/s]"
      ],
      "application/vnd.jupyter.widget-view+json": {
       "version_major": 2,
       "version_minor": 0,
       "model_id": "9139be778a2948ee92a272be3c735159"
      }
     },
     "metadata": {},
     "output_type": "display_data"
    }
   ],
   "execution_count": 4
  },
  {
   "metadata": {
    "ExecuteTime": {
     "end_time": "2025-02-01T20:38:58.742111Z",
     "start_time": "2025-02-01T20:38:58.735845Z"
    }
   },
   "cell_type": "code",
   "source": "print(f\"Covariates' number after feature engineering: {data['train']['features']['original'].shape[1]}\")\n",
   "id": "f4350121a8ab05ed",
   "outputs": [
    {
     "name": "stdout",
     "output_type": "stream",
     "text": [
      "Covariates' number after feature engineering: 11111\n"
     ]
    }
   ],
   "execution_count": 8
  },
  {
   "metadata": {
    "ExecuteTime": {
     "end_time": "2025-02-01T20:39:04.477236Z",
     "start_time": "2025-02-01T20:39:00.125935Z"
    }
   },
   "cell_type": "code",
   "source": [
    "results = []\n",
    "\n",
    "for data_type in data.keys():\n",
    "    features = data[data_type][\"features\"]\n",
    "\n",
    "    for features_version in features.keys():\n",
    "        all_means = features[features_version].mean()\n",
    "        all_stds = features[features_version].std()\n",
    "        results.append(\n",
    "            {\n",
    "                \"data_type\": data_type,\n",
    "                \"features_version\": features_version,\n",
    "                \"average_min\": all_means.min(),\n",
    "                \"average_max\": all_means.max(),\n",
    "                \"std_min\": all_stds.min(),\n",
    "                \"std_max\": all_stds.max(),\n",
    "            }\n",
    "        )\n",
    "\n",
    "print(tabulate(pd.DataFrame(results), headers=\"keys\", tablefmt=\"pretty\", showindex=False, floatfmt=\".2f\"))\n"
   ],
   "id": "47bf13862f48af83",
   "outputs": [
    {
     "name": "stdout",
     "output_type": "stream",
     "text": [
      "+-----------+------------------+-------------------------+------------------------+------------------------+--------------------+\n",
      "| data_type | features_version |       average_min       |      average_max       |        std_min         |      std_max       |\n",
      "+-----------+------------------+-------------------------+------------------------+------------------------+--------------------+\n",
      "|   train   |     original     | -1.5180192295518228e-16 | 4.585149648778819e-15  |          0.0           | 1.0000643562764127 |\n",
      "|   train   |      noise       | -1.0424951335476373e-16 | 1.3967605850707554e-14 |   1.0000643562764122   | 1.0000643562764127 |\n",
      "|   test    |     original     |   -0.0684652037053237   |  0.04583559784073436   | 1.7349839254154006e-18 | 1.4228938599796255 |\n",
      "|   test    |      noise       |  -0.042515229978691456  |  0.04583550454500346   |          0.0           | 1.4228938534828723 |\n",
      "+-----------+------------------+-------------------------+------------------------+------------------------+--------------------+\n"
     ]
    }
   ],
   "execution_count": 9
  },
  {
   "metadata": {},
   "cell_type": "markdown",
   "source": [
    "- In our training dataset, there are some columns with have no variation in their values leading to a standard deviation of 0. We 'll remove all of them.\n",
    "- We will also this high number of features using Principal Component Analysis (PCA)."
   ],
   "id": "20c038c011b030bf"
  },
  {
   "metadata": {
    "ExecuteTime": {
     "end_time": "2025-02-01T20:39:09.254834Z",
     "start_time": "2025-02-01T20:39:09.020257Z"
    }
   },
   "cell_type": "code",
   "source": [
    "del results, data_type\n",
    "gc.collect()\n"
   ],
   "id": "d929072deefa4408",
   "outputs": [
    {
     "data": {
      "text/plain": [
       "0"
      ]
     },
     "execution_count": 10,
     "metadata": {},
     "output_type": "execute_result"
    }
   ],
   "execution_count": 10
  },
  {
   "metadata": {},
   "cell_type": "code",
   "outputs": [],
   "execution_count": null,
   "source": "",
   "id": "b1582113cbabbb40"
  },
  {
   "metadata": {},
   "cell_type": "markdown",
   "source": "## Data analysis - Part 2",
   "id": "cda4b56fd6a0591b"
  },
  {
   "metadata": {},
   "cell_type": "markdown",
   "source": [
    " - Since all our covariates are now all numerical, we can perform a correlation analysis to understand the relationships with average_rating.\n",
    "The analysis will be done only on the training dataset.\n",
    " - The noisy version of features was obtained by adding a simulated white gaussian noise to the original features values."
   ],
   "id": "25411169f7a7b46"
  },
  {
   "metadata": {
    "ExecuteTime": {
     "end_time": "2025-02-01T20:39:18.135284Z",
     "start_time": "2025-02-01T20:39:11.724160Z"
    }
   },
   "cell_type": "code",
   "source": [
    "original_df = data[\"train\"][\"features\"][\"original\"].copy(deep=True)\n",
    "original_df = original_df.loc[:, ~(original_df.nunique() == 1)]\n",
    "\n",
    "noise_df = data[\"train\"][\"features\"][\"noise\"].copy(deep=True)\n",
    "noise_df = noise_df.loc[:, ~(noise_df.nunique() == 1)]\n",
    "\n",
    "target_df = data[\"train\"][\"targets\"]\n"
   ],
   "id": "19046e1434dd9353",
   "outputs": [],
   "execution_count": 11
  },
  {
   "metadata": {},
   "cell_type": "markdown",
   "source": "### _Features original version_",
   "id": "885c0157fb8d93ef"
  },
  {
   "metadata": {
    "ExecuteTime": {
     "end_time": "2025-02-01T20:39:50.736439Z",
     "start_time": "2025-02-01T20:39:20.658796Z"
    }
   },
   "cell_type": "code",
   "source": [
    "spearman_correlation_df = pd.DataFrame(index=original_df.columns, columns=target_df.columns)\n",
    "kendall_correlation_df = pd.DataFrame(index=original_df.columns, columns=target_df.columns)\n",
    "\n",
    "for feature in original_df.columns:\n",
    "    for target in target_df.columns:\n",
    "        feature_data = original_df[feature]\n",
    "        target_data = target_df[target]\n",
    "        spearman_correlation_df.loc[feature, target] = np.abs(spearmanr(feature_data, target_data)[0])\n",
    "        kendall_correlation_df.loc[feature, target] = np.abs(kendalltau(feature_data, target_data)[0])\n",
    "\n",
    "spearman_correlation = spearman_correlation_df.values.flatten()\n",
    "kendall_correlation = kendall_correlation_df.values.flatten()\n",
    "\n",
    "results = {\n",
    "    'Correlation Type': ['Kendall', 'Spearman'],\n",
    "    'Min': [np.min(kendall_correlation), np.min(spearman_correlation)],\n",
    "    'Q1': [np.percentile(kendall_correlation, 25), np.percentile(spearman_correlation, 25)],\n",
    "    'Median': [np.median(kendall_correlation), np.median(spearman_correlation)],\n",
    "    'Q3': [np.percentile(kendall_correlation, 75), np.percentile(spearman_correlation, 75)],\n",
    "    'Max': [np.max(kendall_correlation), np.max(spearman_correlation)]\n",
    "}\n",
    "\n",
    "print(tabulate(pd.DataFrame(results), headers=\"keys\", tablefmt=\"pretty\", showindex=False, floatfmt=\".2f\"))\n"
   ],
   "id": "af19fa2139c9e57f",
   "outputs": [
    {
     "name": "stdout",
     "output_type": "stream",
     "text": [
      "+------------------+------------------------+----------------------+---------------------+----------------------+---------------------+\n",
      "| Correlation Type |          Min           |          Q1          |       Median        |          Q3          |         Max         |\n",
      "+------------------+------------------------+----------------------+---------------------+----------------------+---------------------+\n",
      "|     Kendall      | 1.9396530281565064e-06 | 0.009802955784309657 | 0.02647678711197628 | 0.04237121466988905  | 0.07505297030743703 |\n",
      "|     Spearman     |  8.48374663496551e-06  | 0.012569857560446141 | 0.03756963841597763 | 0.060243707075213794 | 0.10739453733566585 |\n",
      "+------------------+------------------------+----------------------+---------------------+----------------------+---------------------+\n"
     ]
    }
   ],
   "execution_count": 12
  },
  {
   "metadata": {},
   "cell_type": "markdown",
   "source": "None of original features is highly correlated with average_rating; even some seems to be no correlated with it.",
   "id": "63c7e66e5ed26a38"
  },
  {
   "metadata": {},
   "cell_type": "code",
   "outputs": [],
   "execution_count": null,
   "source": "",
   "id": "d6f76b885cc77e36"
  },
  {
   "metadata": {},
   "cell_type": "markdown",
   "source": "### _Features noisy version_",
   "id": "af2ff2e9dc262b7"
  },
  {
   "metadata": {
    "ExecuteTime": {
     "end_time": "2025-02-01T20:40:32.192219Z",
     "start_time": "2025-02-01T20:39:57.708620Z"
    }
   },
   "cell_type": "code",
   "source": [
    "spearman_correlation_df = pd.DataFrame(index=noise_df.columns, columns=target_df.columns)\n",
    "kendall_correlation_df = pd.DataFrame(index=noise_df.columns, columns=target_df.columns)\n",
    "\n",
    "for feature in noise_df.columns:\n",
    "    for target in target_df.columns:\n",
    "        feature_data = noise_df[feature]\n",
    "        target_data = target_df[target]\n",
    "\n",
    "        spearman_correlation_df.loc[feature, target] = np.abs(spearmanr(feature_data, target_data)[0])\n",
    "        kendall_correlation_df.loc[feature, target] = np.abs(kendalltau(feature_data, target_data)[0])\n",
    "\n",
    "spearman_correlation = spearman_correlation_df.astype(float).values.flatten()\n",
    "kendall_correlation = kendall_correlation_df.astype(float).values.flatten()\n",
    "\n",
    "results = {\n",
    "    'Correlation Type': ['Kendall', 'Spearman'],\n",
    "    'Min': [np.min(kendall_correlation), np.min(spearman_correlation)],\n",
    "    'Q1': [np.percentile(kendall_correlation, 25), np.percentile(spearman_correlation, 25)],\n",
    "    'Median': [np.median(kendall_correlation), np.median(spearman_correlation)],\n",
    "    'Q3': [np.percentile(kendall_correlation, 75), np.percentile(spearman_correlation, 75)],\n",
    "    'Max': [np.max(kendall_correlation), np.max(spearman_correlation)]\n",
    "}\n",
    "\n",
    "print(tabulate(pd.DataFrame(results), headers=\"keys\", tablefmt=\"pretty\", showindex=False, floatfmt=\".2f\"))\n"
   ],
   "id": "6bcd7ba798814657",
   "outputs": [
    {
     "name": "stdout",
     "output_type": "stream",
     "text": [
      "+------------------+------------------------+-----------------------+----------------------+----------------------+---------------------+\n",
      "| Correlation Type |          Min           |          Q1           |        Median        |          Q3          |         Max         |\n",
      "+------------------+------------------------+-----------------------+----------------------+----------------------+---------------------+\n",
      "|     Kendall      | 6.661400497322997e-07  | 0.0037246221670706936 | 0.007984154794076425 | 0.014615412454149036 | 0.07488719793488524 |\n",
      "|     Spearman     | 1.4486376338028323e-06 | 0.005540629970204562  | 0.011944069952854252 | 0.02176884384492848  | 0.10746787510807125 |\n",
      "+------------------+------------------------+-----------------------+----------------------+----------------------+---------------------+\n"
     ]
    }
   ],
   "execution_count": 13
  },
  {
   "metadata": {},
   "cell_type": "markdown",
   "source": "Nothing changes compared to the original features case : poor correlation with average_rating (less than 11% in absolute value).",
   "id": "e6210b5453da9723"
  },
  {
   "metadata": {},
   "cell_type": "markdown",
   "source": "### _Target_",
   "id": "b1627a8617808f86"
  },
  {
   "metadata": {
    "ExecuteTime": {
     "end_time": "2025-02-01T20:51:37.460231Z",
     "start_time": "2025-02-01T20:51:37.452306Z"
    }
   },
   "cell_type": "code",
   "source": "target_column = target_df.columns[0]\n",
   "id": "154853b08d09bfe6",
   "outputs": [],
   "execution_count": 19
  },
  {
   "metadata": {
    "ExecuteTime": {
     "end_time": "2025-02-01T20:51:44.308764Z",
     "start_time": "2025-02-01T20:51:44.105550Z"
    }
   },
   "cell_type": "code",
   "source": [
    "fig, ax = plt.subplots(figsize=(10, 6))\n",
    "fig.tight_layout(pad=3.0)\n",
    "\n",
    "fig.suptitle(\n",
    "    \"Target\",\n",
    "    fontsize=24,\n",
    "    fontweight='bold',\n",
    "    y=1.02,\n",
    ")\n",
    "\n",
    "sns.boxplot(\n",
    "    data=target_df,\n",
    "    y=target_column,\n",
    "    ax=ax,\n",
    ")\n",
    "\n",
    "ax.set_title(f\"Boxplot of {target_column}\")\n",
    "ax.set_ylabel(target_column)\n",
    "ax.set_xlabel(\"\")\n",
    "\n",
    "plt.tight_layout()\n",
    "plt.show()\n"
   ],
   "id": "37bfa30335e01bfd",
   "outputs": [
    {
     "data": {
      "text/plain": [
       "<Figure size 1000x600 with 1 Axes>"
      ],
      "image/png": "[encoded data removed]"
     },
     "metadata": {},
     "output_type": "display_data"
    }
   ],
   "execution_count": 20
  },
  {
   "metadata": {
    "ExecuteTime": {
     "end_time": "2025-02-01T20:51:54.257402Z",
     "start_time": "2025-02-01T20:51:53.854164Z"
    }
   },
   "cell_type": "code",
   "source": [
    "fig, ax = plt.subplots(figsize=(10, 6))\n",
    "fig.tight_layout(pad=3.0)\n",
    "\n",
    "fig.suptitle(\n",
    "    target_column,\n",
    "    fontsize=24,\n",
    "    fontweight='bold',\n",
    "    y=1.02,\n",
    ")\n",
    "\n",
    "target_data = target_df[target_column]\n",
    "iqr = stats.iqr(target_data)\n",
    "bin_width = 2 * iqr / (len(target_data) ** (1/3))\n",
    "n_bins = int((target_data.max() - target_data.min()) / bin_width)\n",
    "\n",
    "sns.histplot(\n",
    "    data=target_df,\n",
    "    x=target_column,\n",
    "    kde=True,\n",
    "    ax=ax,\n",
    "    bins=n_bins,\n",
    "    kde_kws={'cut': 3}\n",
    ")\n",
    "\n",
    "statistic, p_value = stats.jarque_bera(target_data)\n",
    "\n",
    "ax.set_title(f\"Distribution of {target_column} in train dataset\")\n",
    "ax.set_xlabel(target_column)\n",
    "ax.set_ylabel(\"Density\")\n",
    "\n",
    "mean = target_data.mean()\n",
    "median = target_data.median()\n",
    "std = target_data.std()\n",
    "\n",
    "stats_text = (\n",
    "    f\"Jarque-Bera test:\\n\"\n",
    "    f\"Statistic: {statistic:.4f}\\n\"\n",
    "    f\"p-value: {p_value:.4e}\\n\\n\"\n",
    "    f\"Mean: {mean:.2f}\\n\"\n",
    "    f\"Median: {median:.2f}\\n\"\n",
    "    f\"Std Dev: {std:.2f}\"\n",
    ")\n",
    "\n",
    "ax.text(\n",
    "    0.05, 0.95,\n",
    "    stats_text,\n",
    "    transform=ax.transAxes,\n",
    "    verticalalignment='top',\n",
    "    bbox=dict(boxstyle='round', facecolor='white', alpha=0.8),\n",
    "    fontsize=8\n",
    ")\n",
    "\n",
    "plt.tight_layout()\n",
    "plt.show()\n"
   ],
   "id": "b182bd96aee140f4",
   "outputs": [
    {
     "data": {
      "text/plain": [
       "<Figure size 1000x600 with 1 Axes>"
      ],
      "image/png": "[encoded data removed]"
     },
     "metadata": {},
     "output_type": "display_data"
    }
   ],
   "execution_count": 21
  },
  {
   "metadata": {
    "ExecuteTime": {
     "end_time": "2025-02-01T20:52:11.075966Z",
     "start_time": "2025-02-01T20:52:10.695024Z"
    }
   },
   "cell_type": "code",
   "source": [
    "fig, ax = plt.subplots(figsize=(10, 6))\n",
    "\n",
    "sns.kdeplot(\n",
    "    data=data[\"train\"][\"targets\"][target_column],\n",
    "    label=\"Train\",\n",
    "    fill=True,\n",
    "    ax=ax,\n",
    ")\n",
    "sns.kdeplot(\n",
    "    data=data[\"test\"][\"targets\"][target_column],\n",
    "    label=\"Test\",\n",
    "    fill=True,\n",
    "    ax=ax,\n",
    ")\n",
    "\n",
    "ax.set_title(f\"Distribution of {target_column}\")\n",
    "ax.set_xlabel(target_column)\n",
    "ax.set_ylabel(\"Density\")\n",
    "ax.legend()\n",
    "\n",
    "plt.tight_layout()\n",
    "plt.show()\n"
   ],
   "id": "35730b6d51d80f53",
   "outputs": [
    {
     "data": {
      "text/plain": [
       "<Figure size 1000x600 with 1 Axes>"
      ],
      "image/png": "[encoded data removed]"
     },
     "metadata": {},
     "output_type": "display_data"
    }
   ],
   "execution_count": 22
  },
  {
   "metadata": {
    "ExecuteTime": {
     "end_time": "2025-02-01T20:43:52.027253Z",
     "start_time": "2025-02-01T20:43:52.010937Z"
    }
   },
   "cell_type": "code",
   "source": [
    "for target in data[\"train\"][\"targets\"].columns:\n",
    "    print(\"--------------------------------------------------\")\n",
    "    statistic, p_value = stats.ks_2samp(\n",
    "        data1=data[\"train\"][\"targets\"][target],\n",
    "        data2=data[\"test\"][\"targets\"][target],\n",
    "    )\n",
    "    print(f\"Target: {target}, Kolmogorov-Smirnov statistic: {statistic:.3f}, p-value: {p_value:.3f}\")\n",
    "    print(\"--------------------------------------------------\")"
   ],
   "id": "e060039fd90ef204",
   "outputs": [
    {
     "name": "stdout",
     "output_type": "stream",
     "text": [
      "--------------------------------------------------\n",
      "Target: average_rating, Kolmogorov-Smirnov statistic: 0.009, p-value: 0.986\n",
      "--------------------------------------------------\n"
     ]
    }
   ],
   "execution_count": 18
  },
  {
   "metadata": {},
   "cell_type": "markdown",
   "source": [
    "- Using the boxplot and the histogram, we can notice that \"average_rating\" in the training dataset seems to have a left-skewed distribution.\n",
    "- According to the Kolmogorov-Smirnov test of a 95% confidence level, the target \"average_rating\" has similar data distribution in the training and test sets.\n",
    "- According to the Jarque-Bera test of a 95% confidence level, statistically it's not possible to say that \"average_rating\" is normally distributed in the training dataset."
   ],
   "id": "43c95c4a02352852"
  },
  {
   "metadata": {},
   "cell_type": "code",
   "outputs": [],
   "execution_count": null,
   "source": "",
   "id": "f7d9aa230cd81a9b"
  },
  {
   "metadata": {},
   "cell_type": "markdown",
   "source": "## Launch MLflow server to record some experiments",
   "id": "c12eb465305d4039"
  },
  {
   "metadata": {},
   "cell_type": "markdown",
   "source": [
    "We will run some MLflow experiments locally. Before going any further from the section `pca + elasticnet`, don't forget to start your local server with commands such as :\n",
    "\n",
    "`mlflow server --host localhost --port 9999`.\n",
    "\n",
    "You can change the server uri and port according to your setup."
   ],
   "id": "9461ab50d1784ce7"
  },
  {
   "metadata": {},
   "cell_type": "code",
   "outputs": [],
   "execution_count": null,
   "source": "mlflow.set_tracking_uri(\"http://localhost:9999\")",
   "id": "11084daeb754dab8"
  },
  {
   "metadata": {},
   "cell_type": "code",
   "outputs": [],
   "execution_count": null,
   "source": "",
   "id": "45efc2c292e1196f"
  },
  {
   "metadata": {},
   "cell_type": "markdown",
   "source": "## Linear models",
   "id": "9099b9ec002080c5"
  },
  {
   "metadata": {},
   "cell_type": "code",
   "outputs": [],
   "execution_count": null,
   "source": "",
   "id": "7f10f51f849192fe"
  },
  {
   "metadata": {},
   "cell_type": "code",
   "outputs": [],
   "execution_count": null,
   "source": "",
   "id": "c47614e53cd1d9a8"
  },
  {
   "metadata": {},
   "cell_type": "code",
   "outputs": [],
   "execution_count": null,
   "source": "",
   "id": "f47b8623967fecd8"
  },
  {
   "metadata": {},
   "cell_type": "code",
   "outputs": [],
   "execution_count": null,
   "source": "",
   "id": "1813a77d50f11f49"
  },
  {
   "metadata": {},
   "cell_type": "code",
   "outputs": [],
   "execution_count": null,
   "source": "",
   "id": "e65eaf6b75fef10b"
  },
  {
   "metadata": {},
   "cell_type": "code",
   "outputs": [],
   "execution_count": null,
   "source": "",
   "id": "c6ca7ab86c6b42af"
  },
  {
   "metadata": {
    "ExecuteTime": {
     "end_time": "2025-01-29T22:36:03.413687Z",
     "start_time": "2025-01-29T22:36:03.328435Z"
    }
   },
   "cell_type": "code",
   "source": "",
   "id": "667bbd6a28bb4282",
   "outputs": [],
   "execution_count": 6
  }
 ],
 "metadata": {
  "kernelspec": {
   "display_name": "Python 3",
   "language": "python",
   "name": "python3"
  },
  "language_info": {
   "codemirror_mode": {
    "name": "ipython",
    "version": 2
   },
   "file_extension": ".py",
   "mimetype": "text/x-python",
   "name": "python",
   "nbconvert_exporter": "python",
   "pygments_lexer": "ipython2",
   "version": "2.7.6"
  }
 },
 "nbformat": 4,
 "nbformat_minor": 5
}
