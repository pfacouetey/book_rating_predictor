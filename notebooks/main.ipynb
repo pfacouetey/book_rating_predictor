{
 "cells": [
  {
   "metadata": {},
   "cell_type": "markdown",
   "source": "## Import libraries and user-defined functions",
   "id": "346df160f773b3d5"
  },
  {
   "metadata": {
    "ExecuteTime": {
     "end_time": "2025-02-06T19:42:30.895287Z",
     "start_time": "2025-02-06T19:42:09.563016Z"
    }
   },
   "cell_type": "code",
   "source": [
    "import gc\n",
    "import mlflow\n",
    "import numpy as np\n",
    "import pandas as pd\n",
    "import seaborn as sns\n",
    "from scipy import stats\n",
    "from tabulate import tabulate\n",
    "import matplotlib.pyplot as plt\n",
    "\n",
    "from src.loaders.data_loader import load_original_books_dataset\n",
    "from src.transformers.data_transformer import transform_books_dataset\n",
    "from src.models.linear_models.pca_logistic_classifier import pca_logistic_classifier\n"
   ],
   "id": "9d9bbbbb1322d252",
   "outputs": [],
   "execution_count": 1
  },
  {
   "metadata": {
    "ExecuteTime": {
     "end_time": "2025-02-06T19:42:30.903253Z",
     "start_time": "2025-02-06T19:42:30.899266Z"
    }
   },
   "cell_type": "code",
   "source": "",
   "id": "b246e98337ca6186",
   "outputs": [],
   "execution_count": null
  },
  {
   "metadata": {},
   "cell_type": "markdown",
   "source": "## Import dataset",
   "id": "ab5e3e4f7c734a9a"
  },
  {
   "metadata": {
    "ExecuteTime": {
     "end_time": "2025-02-06T19:42:31.142088Z",
     "start_time": "2025-02-06T19:42:31.082720Z"
    }
   },
   "cell_type": "code",
   "source": [
    "original_books_df = load_original_books_dataset()\n",
    "original_books_df.sample(n=5, random_state=123)\n"
   ],
   "id": "521517f37ee50e16",
   "outputs": [
    {
     "data": {
      "text/plain": [
       "             isbn13                     authors  average_rating  \\\n",
       "6391  9780439651363               Gordon Korman            4.05   \n",
       "628   9780375415029  Raymond Chandler/Tom Hiney            4.45   \n",
       "10    9780739322208   Douglas Adams/Stephen Fry            4.22   \n",
       "1001  9780517201664          Colleen McCullough            3.67   \n",
       "6627  9780812976151               E.L. Doctorow            3.80   \n",
       "\n",
       "      publication_year                      publisher  num_pages  \\\n",
       "6391              2005               Scholastic  Inc.        154   \n",
       "628               2002             Everyman's Library       1016   \n",
       "10                2005             Random House Audio          6   \n",
       "1001              1999                          Wings        768   \n",
       "6627              2006  Random House Trade Paperbacks        363   \n",
       "\n",
       "      ratings_count  text_reviews_count  \n",
       "6391           4598                 371  \n",
       "628             241                  11  \n",
       "10             1266                 253  \n",
       "1001             39                   7  \n",
       "6627           8266                 831  "
      ],
      "text/html": [
       "<div>\n",
       "<style scoped>\n",
       "    .dataframe tbody tr th:only-of-type {\n",
       "        vertical-align: middle;\n",
       "    }\n",
       "\n",
       "    .dataframe tbody tr th {\n",
       "        vertical-align: top;\n",
       "    }\n",
       "\n",
       "    .dataframe thead th {\n",
       "        text-align: right;\n",
       "    }\n",
       "</style>\n",
       "<table border=\"1\" class=\"dataframe\">\n",
       "  <thead>\n",
       "    <tr style=\"text-align: right;\">\n",
       "      <th></th>\n",
       "      <th>isbn13</th>\n",
       "      <th>authors</th>\n",
       "      <th>average_rating</th>\n",
       "      <th>publication_year</th>\n",
       "      <th>publisher</th>\n",
       "      <th>num_pages</th>\n",
       "      <th>ratings_count</th>\n",
       "      <th>text_reviews_count</th>\n",
       "    </tr>\n",
       "  </thead>\n",
       "  <tbody>\n",
       "    <tr>\n",
       "      <th>6391</th>\n",
       "      <td>9780439651363</td>\n",
       "      <td>Gordon Korman</td>\n",
       "      <td>4.05</td>\n",
       "      <td>2005</td>\n",
       "      <td>Scholastic  Inc.</td>\n",
       "      <td>154</td>\n",
       "      <td>4598</td>\n",
       "      <td>371</td>\n",
       "    </tr>\n",
       "    <tr>\n",
       "      <th>628</th>\n",
       "      <td>9780375415029</td>\n",
       "      <td>Raymond Chandler/Tom Hiney</td>\n",
       "      <td>4.45</td>\n",
       "      <td>2002</td>\n",
       "      <td>Everyman's Library</td>\n",
       "      <td>1016</td>\n",
       "      <td>241</td>\n",
       "      <td>11</td>\n",
       "    </tr>\n",
       "    <tr>\n",
       "      <th>10</th>\n",
       "      <td>9780739322208</td>\n",
       "      <td>Douglas Adams/Stephen Fry</td>\n",
       "      <td>4.22</td>\n",
       "      <td>2005</td>\n",
       "      <td>Random House Audio</td>\n",
       "      <td>6</td>\n",
       "      <td>1266</td>\n",
       "      <td>253</td>\n",
       "    </tr>\n",
       "    <tr>\n",
       "      <th>1001</th>\n",
       "      <td>9780517201664</td>\n",
       "      <td>Colleen McCullough</td>\n",
       "      <td>3.67</td>\n",
       "      <td>1999</td>\n",
       "      <td>Wings</td>\n",
       "      <td>768</td>\n",
       "      <td>39</td>\n",
       "      <td>7</td>\n",
       "    </tr>\n",
       "    <tr>\n",
       "      <th>6627</th>\n",
       "      <td>9780812976151</td>\n",
       "      <td>E.L. Doctorow</td>\n",
       "      <td>3.80</td>\n",
       "      <td>2006</td>\n",
       "      <td>Random House Trade Paperbacks</td>\n",
       "      <td>363</td>\n",
       "      <td>8266</td>\n",
       "      <td>831</td>\n",
       "    </tr>\n",
       "  </tbody>\n",
       "</table>\n",
       "</div>"
      ]
     },
     "execution_count": 2,
     "metadata": {},
     "output_type": "execute_result"
    }
   ],
   "execution_count": 2
  },
  {
   "metadata": {
    "ExecuteTime": {
     "end_time": "2025-02-06T19:42:31.191908Z",
     "start_time": "2025-02-06T19:42:31.188157Z"
    }
   },
   "cell_type": "code",
   "source": "",
   "id": "724959bcdca31b1a",
   "outputs": [],
   "execution_count": null
  },
  {
   "metadata": {},
   "cell_type": "markdown",
   "source": "## Data analysis - Part 1",
   "id": "1e5877b2ce99c566"
  },
  {
   "metadata": {
    "ExecuteTime": {
     "end_time": "2025-02-06T19:42:31.410729Z",
     "start_time": "2025-02-06T19:42:31.393273Z"
    }
   },
   "cell_type": "code",
   "source": "original_books_df.describe()\n",
   "id": "4f4a3dee049c0146",
   "outputs": [
    {
     "data": {
      "text/plain": [
       "       average_rating  publication_year     num_pages  ratings_count  \\\n",
       "count    11127.000000      11127.000000  11127.000000   1.112700e+04   \n",
       "mean         3.933631       2000.167520    336.376921   1.793641e+04   \n",
       "std          0.352445          8.248836    241.127305   1.124794e+05   \n",
       "min          0.000000       1900.000000      0.000000   0.000000e+00   \n",
       "25%          3.770000       1998.000000    192.000000   1.040000e+02   \n",
       "50%          3.960000       2003.000000    299.000000   7.450000e+02   \n",
       "75%          4.135000       2005.000000    416.000000   4.993500e+03   \n",
       "max          5.000000       2020.000000   6576.000000   4.597666e+06   \n",
       "\n",
       "       text_reviews_count  \n",
       "count        11127.000000  \n",
       "mean           541.854498  \n",
       "std           2576.176608  \n",
       "min              0.000000  \n",
       "25%              9.000000  \n",
       "50%             46.000000  \n",
       "75%            237.500000  \n",
       "max          94265.000000  "
      ],
      "text/html": [
       "<div>\n",
       "<style scoped>\n",
       "    .dataframe tbody tr th:only-of-type {\n",
       "        vertical-align: middle;\n",
       "    }\n",
       "\n",
       "    .dataframe tbody tr th {\n",
       "        vertical-align: top;\n",
       "    }\n",
       "\n",
       "    .dataframe thead th {\n",
       "        text-align: right;\n",
       "    }\n",
       "</style>\n",
       "<table border=\"1\" class=\"dataframe\">\n",
       "  <thead>\n",
       "    <tr style=\"text-align: right;\">\n",
       "      <th></th>\n",
       "      <th>average_rating</th>\n",
       "      <th>publication_year</th>\n",
       "      <th>num_pages</th>\n",
       "      <th>ratings_count</th>\n",
       "      <th>text_reviews_count</th>\n",
       "    </tr>\n",
       "  </thead>\n",
       "  <tbody>\n",
       "    <tr>\n",
       "      <th>count</th>\n",
       "      <td>11127.000000</td>\n",
       "      <td>11127.000000</td>\n",
       "      <td>11127.000000</td>\n",
       "      <td>1.112700e+04</td>\n",
       "      <td>11127.000000</td>\n",
       "    </tr>\n",
       "    <tr>\n",
       "      <th>mean</th>\n",
       "      <td>3.933631</td>\n",
       "      <td>2000.167520</td>\n",
       "      <td>336.376921</td>\n",
       "      <td>1.793641e+04</td>\n",
       "      <td>541.854498</td>\n",
       "    </tr>\n",
       "    <tr>\n",
       "      <th>std</th>\n",
       "      <td>0.352445</td>\n",
       "      <td>8.248836</td>\n",
       "      <td>241.127305</td>\n",
       "      <td>1.124794e+05</td>\n",
       "      <td>2576.176608</td>\n",
       "    </tr>\n",
       "    <tr>\n",
       "      <th>min</th>\n",
       "      <td>0.000000</td>\n",
       "      <td>1900.000000</td>\n",
       "      <td>0.000000</td>\n",
       "      <td>0.000000e+00</td>\n",
       "      <td>0.000000</td>\n",
       "    </tr>\n",
       "    <tr>\n",
       "      <th>25%</th>\n",
       "      <td>3.770000</td>\n",
       "      <td>1998.000000</td>\n",
       "      <td>192.000000</td>\n",
       "      <td>1.040000e+02</td>\n",
       "      <td>9.000000</td>\n",
       "    </tr>\n",
       "    <tr>\n",
       "      <th>50%</th>\n",
       "      <td>3.960000</td>\n",
       "      <td>2003.000000</td>\n",
       "      <td>299.000000</td>\n",
       "      <td>7.450000e+02</td>\n",
       "      <td>46.000000</td>\n",
       "    </tr>\n",
       "    <tr>\n",
       "      <th>75%</th>\n",
       "      <td>4.135000</td>\n",
       "      <td>2005.000000</td>\n",
       "      <td>416.000000</td>\n",
       "      <td>4.993500e+03</td>\n",
       "      <td>237.500000</td>\n",
       "    </tr>\n",
       "    <tr>\n",
       "      <th>max</th>\n",
       "      <td>5.000000</td>\n",
       "      <td>2020.000000</td>\n",
       "      <td>6576.000000</td>\n",
       "      <td>4.597666e+06</td>\n",
       "      <td>94265.000000</td>\n",
       "    </tr>\n",
       "  </tbody>\n",
       "</table>\n",
       "</div>"
      ]
     },
     "execution_count": 3,
     "metadata": {},
     "output_type": "execute_result"
    }
   ],
   "execution_count": 3
  },
  {
   "metadata": {},
   "cell_type": "markdown",
   "source": [
    "- Books with 0 values found for 'average_rating', 'num_pages' and 'ratings_count' are likely errors in the data.\n",
    "- Books with 0 values found for 'average_rating' will be discarded, whereas for 'num_pages' and 'ratings_count' we will try to correct them through our book_scrapper function implemented in data_transformer.py when possible.\n",
    "- 0 values for 'text_reviews_count' are possible, and won't be taken as errors in the data.\n",
    "- Having old books (publication_year < 2003) up to 50% in the dataset shows that we aren't just dealing with recent literature.\n"
   ],
   "id": "2741215f717bfd97"
  },
  {
   "metadata": {
    "ExecuteTime": {
     "end_time": "2025-02-06T19:42:31.746172Z",
     "start_time": "2025-02-06T19:42:31.455273Z"
    }
   },
   "cell_type": "code",
   "source": [
    "target_name = \"average_rating\"\n",
    "mask_valid_books = original_books_df[target_name] != 0\n",
    "target_df = original_books_df.loc[mask_valid_books, ][[target_name]]\n",
    "\n",
    "fig, ax = plt.subplots(figsize=(10, 6))\n",
    "fig.tight_layout(pad=3.0)\n",
    "\n",
    "sns.boxplot(\n",
    "    data=target_df,\n",
    "    y=target_name,\n",
    "    ax=ax,\n",
    ")\n",
    "\n",
    "ax.set_title(f\"Boxplot of {target_name}\")\n",
    "ax.set_ylabel(target_name)\n",
    "ax.set_xlabel(\"\")\n",
    "\n",
    "plt.tight_layout()\n",
    "plt.show()\n"
   ],
   "id": "72feb55d437df3d9",
   "outputs": [
    {
     "data": {
      "text/plain": [
       "<Figure size 1000x600 with 1 Axes>"
      ],
      "image/png": "[encoded data removed]"
     },
     "metadata": {},
     "output_type": "display_data"
    }
   ],
   "execution_count": 4
  },
  {
   "metadata": {
    "ExecuteTime": {
     "end_time": "2025-02-06T19:42:32.051982Z",
     "start_time": "2025-02-06T19:42:31.790445Z"
    }
   },
   "cell_type": "code",
   "source": [
    "fig, ax = plt.subplots(figsize=(10, 6))\n",
    "fig.tight_layout(pad=3.0)\n",
    "\n",
    "iqr = stats.iqr(target_df)\n",
    "bin_width = 2 * iqr / (len(target_df) ** (1/3))\n",
    "n_bins = int((target_df.max().iloc[0] - target_df.min().iloc[0]) / bin_width)\n",
    "\n",
    "sns.histplot(\n",
    "    data=target_df,\n",
    "    x=target_name,\n",
    "    kde=True,\n",
    "    ax=ax,\n",
    "    bins=n_bins,\n",
    "    kde_kws={'cut': 3}\n",
    ")\n",
    "\n",
    "ax.set_title(f\"Distribution of {target_name}\")\n",
    "ax.set_xlabel(target_name)\n",
    "ax.set_ylabel(\"Density\")\n",
    "\n",
    "plt.tight_layout()\n",
    "plt.show()\n"
   ],
   "id": "242bd2ed97add1a6",
   "outputs": [
    {
     "data": {
      "text/plain": [
       "<Figure size 1000x600 with 1 Axes>"
      ],
      "image/png": "[encoded data removed]"
     },
     "metadata": {},
     "output_type": "display_data"
    }
   ],
   "execution_count": 5
  },
  {
   "metadata": {
    "ExecuteTime": {
     "end_time": "2025-02-06T19:42:32.091300Z",
     "start_time": "2025-02-06T19:42:32.081726Z"
    }
   },
   "cell_type": "code",
   "source": "target_df.describe().T",
   "id": "d0f71081a955ef6b",
   "outputs": [
    {
     "data": {
      "text/plain": [
       "                  count      mean      std  min   25%   50%   75%  max\n",
       "average_rating  11101.0  3.942844  0.29695  1.0  3.78  3.96  4.14  5.0"
      ],
      "text/html": [
       "<div>\n",
       "<style scoped>\n",
       "    .dataframe tbody tr th:only-of-type {\n",
       "        vertical-align: middle;\n",
       "    }\n",
       "\n",
       "    .dataframe tbody tr th {\n",
       "        vertical-align: top;\n",
       "    }\n",
       "\n",
       "    .dataframe thead th {\n",
       "        text-align: right;\n",
       "    }\n",
       "</style>\n",
       "<table border=\"1\" class=\"dataframe\">\n",
       "  <thead>\n",
       "    <tr style=\"text-align: right;\">\n",
       "      <th></th>\n",
       "      <th>count</th>\n",
       "      <th>mean</th>\n",
       "      <th>std</th>\n",
       "      <th>min</th>\n",
       "      <th>25%</th>\n",
       "      <th>50%</th>\n",
       "      <th>75%</th>\n",
       "      <th>max</th>\n",
       "    </tr>\n",
       "  </thead>\n",
       "  <tbody>\n",
       "    <tr>\n",
       "      <th>average_rating</th>\n",
       "      <td>11101.0</td>\n",
       "      <td>3.942844</td>\n",
       "      <td>0.29695</td>\n",
       "      <td>1.0</td>\n",
       "      <td>3.78</td>\n",
       "      <td>3.96</td>\n",
       "      <td>4.14</td>\n",
       "      <td>5.0</td>\n",
       "    </tr>\n",
       "  </tbody>\n",
       "</table>\n",
       "</div>"
      ]
     },
     "execution_count": 6,
     "metadata": {},
     "output_type": "execute_result"
    }
   ],
   "execution_count": 6
  },
  {
   "metadata": {},
   "cell_type": "markdown",
   "source": [
    "- \"average_rating\" has a low variability, since its standard deviation is only up to 0.3.\n",
    "- The lowest range is between Q2 and Q3, it's only up to 0.18 (quite low) nevertheless it contains 25% of the data.\n",
    "- Although the median and mean are quite close to each other (3.96 and 3.94) which could mean that the data distribution can be seen as symmetric, both boxplot and histogram are showing a left-skewed distribution due to the presence of books with extremely low ratings.\n",
    "- We could regroup \"average_rating\" into two categories : having \"low\" (<=3) and \"high\" (>3), or \"low\" (<=3.94) and \"high\" (>3.94). The first choice is more like a general consideration, while the second choice is more like a precise categorization using the data distribution."
   ],
   "id": "9db99f45ca840865"
  },
  {
   "metadata": {
    "ExecuteTime": {
     "end_time": "2025-02-06T19:42:32.498478Z",
     "start_time": "2025-02-06T19:42:32.140098Z"
    }
   },
   "cell_type": "code",
   "source": [
    "def create_category_and_percentages(df: pd.DataFrame, threshold: float) -> pd.Series:\n",
    "    df[\"average_rating_category\"] = df[\"average_rating\"].apply(\n",
    "        lambda x: \"low\" if x <= threshold else \"high\"\n",
    "    )\n",
    "    category_counts = df[\"average_rating_category\"].value_counts()\n",
    "    return (category_counts / len(df) * 100).sort_index()\n",
    "\n",
    "new_target_df = target_df.copy(deep=True)\n",
    "cutoffs = [3.00, target_df.mean().iloc[0].round(2)]\n",
    "\n",
    "fig, (ax1, ax2) = plt.subplots(1, 2, figsize=(12, 5))\n",
    "\n",
    "for ax, cutoff in zip([ax1, ax2], cutoffs):\n",
    "    category_percentages = create_category_and_percentages(new_target_df, cutoff)\n",
    "\n",
    "    category_percentages.plot(kind=\"bar\", ax=ax)\n",
    "    ax.set_title(f\"Distribution of Average Rating (Cutoff: {cutoff})\")\n",
    "    ax.set_xlabel(\"Average Rating Category\")\n",
    "    ax.set_ylabel(\"Percentage\")\n",
    "\n",
    "    for i, v in enumerate(category_percentages):\n",
    "        ax.text(i, v, f'{v:.1f}%', ha='center', va='bottom')\n",
    "\n",
    "plt.tight_layout()\n",
    "plt.show()\n"
   ],
   "id": "b1d5b7cbc10d6573",
   "outputs": [
    {
     "data": {
      "text/plain": [
       "<Figure size 1200x500 with 2 Axes>"
      ],
      "image/png": "[encoded data removed]"
     },
     "metadata": {},
     "output_type": "display_data"
    }
   ],
   "execution_count": 7
  },
  {
   "metadata": {},
   "cell_type": "markdown",
   "source": "Cutting \"average_rating\" into two categories using the mean (<=3.96 and >3.96) enables to have a more balanced distribution of \"average_rating\" which is quite good : we decide to use this categorization approach.",
   "id": "cecd701f43da335a"
  },
  {
   "metadata": {
    "ExecuteTime": {
     "end_time": "2025-02-06T19:42:32.525518Z",
     "start_time": "2025-02-06T19:42:32.523293Z"
    }
   },
   "cell_type": "code",
   "source": "",
   "id": "9d63b4ccb8014e03",
   "outputs": [],
   "execution_count": null
  },
  {
   "metadata": {},
   "cell_type": "markdown",
   "source": "## Feature engineering",
   "id": "cf98c54249879d55"
  },
  {
   "metadata": {},
   "cell_type": "markdown",
   "source": "This step can take some time as it involves processing some textual information of book details. Please be patient while running this part.",
   "id": "20cfa0ec56edc51b"
  },
  {
   "metadata": {
    "ExecuteTime": {
     "end_time": "2025-02-06T19:45:47.143706Z",
     "start_time": "2025-02-06T19:42:32.543524Z"
    }
   },
   "cell_type": "code",
   "source": "data = await transform_books_dataset(books_df=original_books_df)\n",
   "id": "ce41de86fe5300b3",
   "outputs": [
    {
     "data": {
      "text/plain": [
       "Batches:   0%|          | 0/217 [00:00<?, ?it/s]"
      ],
      "application/vnd.jupyter.widget-view+json": {
       "version_major": 2,
       "version_minor": 0,
       "model_id": "46f364b47d96438f93e4aaff84f9b885"
      }
     },
     "metadata": {},
     "output_type": "display_data"
    }
   ],
   "execution_count": 8
  },
  {
   "metadata": {
    "ExecuteTime": {
     "end_time": "2025-02-06T19:45:47.176210Z",
     "start_time": "2025-02-06T19:45:47.170942Z"
    }
   },
   "cell_type": "code",
   "source": "print(f\"Covariates' number after feature engineering: {data['train']['features']['original'].shape[1]}\")\n",
   "id": "f4350121a8ab05ed",
   "outputs": [
    {
     "name": "stdout",
     "output_type": "stream",
     "text": [
      "Covariates' number after feature engineering: 10\n"
     ]
    }
   ],
   "execution_count": 9
  },
  {
   "metadata": {
    "ExecuteTime": {
     "end_time": "2025-02-06T19:45:47.225737Z",
     "start_time": "2025-02-06T19:45:47.206874Z"
    }
   },
   "cell_type": "code",
   "source": [
    "results = []\n",
    "\n",
    "for data_type in data.keys():\n",
    "    features = data[data_type][\"features\"]\n",
    "\n",
    "    for features_version in features.keys():\n",
    "        all_means = features[features_version].mean()\n",
    "        all_stds = features[features_version].std()\n",
    "        results.append(\n",
    "            {\n",
    "                \"data_type\": data_type,\n",
    "                \"features_version\": features_version,\n",
    "                \"average_min\": all_means.min(),\n",
    "                \"average_max\": all_means.max(),\n",
    "                \"std_min\": all_stds.min(),\n",
    "                \"std_max\": all_stds.max(),\n",
    "            }\n",
    "        )\n",
    "\n",
    "print(tabulate(pd.DataFrame(results), headers=\"keys\", tablefmt=\"pretty\", showindex=False))\n"
   ],
   "id": "47bf13862f48af83",
   "outputs": [
    {
     "name": "stdout",
     "output_type": "stream",
     "text": [
      "+-----------+------------------+------------------------+------------------------+--------------------+--------------------+\n",
      "| data_type | features_version |      average_min       |      average_max       |      std_min       |      std_max       |\n",
      "+-----------+------------------+------------------------+------------------------+--------------------+--------------------+\n",
      "|   train   |     original     | -6.584179790827183e-17 | 4.585149648778819e-15  | 1.000064356276412  | 1.0000643562764127 |\n",
      "|   train   |      noise       | -7.315755323141314e-17 | 1.2835492714451437e-14 | 1.0000643562764122 | 1.0000643562764127 |\n",
      "|   test    |     original     |  -0.01753921159142752  |  0.04583559784073436   | 0.7133164627578104 | 1.4228938599796255 |\n",
      "|   test    |      noise       |  -0.01753213647120433  |  0.045835630901794905  | 0.7133187347716701 | 1.4228939067203945 |\n",
      "+-----------+------------------+------------------------+------------------------+--------------------+--------------------+\n"
     ]
    }
   ],
   "execution_count": 10
  },
  {
   "metadata": {
    "ExecuteTime": {
     "end_time": "2025-02-06T19:45:47.482028Z",
     "start_time": "2025-02-06T19:45:47.249720Z"
    }
   },
   "cell_type": "code",
   "source": [
    "del results, data_type\n",
    "gc.collect()\n"
   ],
   "id": "d929072deefa4408",
   "outputs": [
    {
     "data": {
      "text/plain": [
       "9526"
      ]
     },
     "execution_count": 11,
     "metadata": {},
     "output_type": "execute_result"
    }
   ],
   "execution_count": 11
  },
  {
   "metadata": {
    "ExecuteTime": {
     "end_time": "2025-02-06T19:45:47.503372Z",
     "start_time": "2025-02-06T19:45:47.500506Z"
    }
   },
   "cell_type": "code",
   "source": "",
   "id": "b1582113cbabbb40",
   "outputs": [],
   "execution_count": null
  },
  {
   "metadata": {},
   "cell_type": "markdown",
   "source": "## Data analysis - Part 2",
   "id": "cda4b56fd6a0591b"
  },
  {
   "metadata": {},
   "cell_type": "markdown",
   "source": [
    " - All our covariates are now all numerical, we can perform an association analysis to understand their relationships with average_rating_category.\n",
    "The analysis will be done only on the training dataset.\n",
    " - The noisy version of features was obtained by adding a simulated white gaussian noise to the original features values."
   ],
   "id": "25411169f7a7b46"
  },
  {
   "metadata": {
    "ExecuteTime": {
     "end_time": "2025-02-06T19:45:47.547309Z",
     "start_time": "2025-02-06T19:45:47.541140Z"
    }
   },
   "cell_type": "code",
   "source": [
    "original_df = data[\"train\"][\"features\"][\"original\"].copy(deep=True).reset_index(drop=True)\n",
    "noise_df = data[\"train\"][\"features\"][\"noise\"].copy(deep=True).reset_index(drop=True)\n",
    "target_df = data[\"train\"][\"targets\"].reset_index(drop=True)\n"
   ],
   "id": "19046e1434dd9353",
   "outputs": [],
   "execution_count": 12
  },
  {
   "metadata": {},
   "cell_type": "markdown",
   "source": "### _Features original version_",
   "id": "885c0157fb8d93ef"
  },
  {
   "metadata": {
    "ExecuteTime": {
     "end_time": "2025-02-06T19:45:47.591061Z",
     "start_time": "2025-02-06T19:45:47.547309Z"
    }
   },
   "cell_type": "code",
   "source": [
    "results = []\n",
    "\n",
    "for feature in original_df.columns:\n",
    "    for target in target_df.columns:\n",
    "        feature_data = original_df[feature]\n",
    "        target_data = target_df[target]\n",
    "\n",
    "        categories = target_data.unique()\n",
    "\n",
    "        group1 = feature_data[target_data == categories[0]]\n",
    "        group2 = feature_data[target_data == categories[1]]\n",
    "\n",
    "        statistic, p_value = stats.mannwhitneyu(group1, group2, alternative='two-sided')\n",
    "\n",
    "        median1 = np.median(group1)\n",
    "        median2 = np.median(group2)\n",
    "\n",
    "        results.append({\n",
    "            'Feature': feature,\n",
    "            'Target': target,\n",
    "            'Category 1': categories[0],\n",
    "            'Category 2': categories[1],\n",
    "            'Median 1': median1,\n",
    "            'Median 2': median2,\n",
    "            'U-statistic': statistic,\n",
    "            'p-value': p_value\n",
    "        })\n",
    "\n",
    "print(tabulate(pd.DataFrame(results), headers=\"keys\", tablefmt=\"pretty\", showindex=False, floatfmt=\".4f\"))\n"
   ],
   "id": "af19fa2139c9e57f",
   "outputs": [
    {
     "name": "stdout",
     "output_type": "stream",
     "text": [
      "+-------------------------+-------------------------+------------+------------+----------------------+----------------------+-------------+-----------------------+\n",
      "|         Feature         |         Target          | Category 1 | Category 2 |       Median 1       |       Median 2       | U-statistic |        p-value        |\n",
      "+-------------------------+-------------------------+------------+------------+----------------------+----------------------+-------------+-----------------------+\n",
      "|    publication_year     | average_rating_category |    low     |    high    |  0.350902400503029   | 0.22940009872457537  |  7855356.5  | 0.001041577173996971  |\n",
      "|        num_pages        | average_rating_category |    low     |    high    | -0.20126385321108434 | -0.09896887622028115 |  6782957.5  | 3.185132031172993e-14 |\n",
      "|      ratings_count      | average_rating_category |    low     |    high    | -0.16278617303662485 | -0.16002891684236784 |  6954479.5  | 4.806702647570456e-09 |\n",
      "|   text_reviews_count    | average_rating_category |    low     |    high    | -0.19337102608461867 | -0.19138160802138826 |  7326117.5  |  0.03648146880667034  |\n",
      "|     revisions_count     | average_rating_category |    low     |    high    | 0.06635011583215639  | 0.06635011583215639  |  7559299.5  |  0.7816166925322237   |\n",
      "|   want_to_read_count    | average_rating_category |    low     |    high    | -0.13423845471924029 | -0.13423845471924029 |  7224005.5  | 0.0009299008125571354 |\n",
      "| currently_reading_count | average_rating_category |    low     |    high    | -0.11233646565357525 | -0.11233646565357525 |  7219290.5  | 2.685041166014433e-05 |\n",
      "|   already_read_count    | average_rating_category |    low     |    high    | -0.20218892832280957 | -0.20218892832280957 |  7245513.0  | 0.0008355597824867352 |\n",
      "|     publisher_score     | average_rating_category |    low     |    high    | -0.37550099144911553 | -0.39673810681675864 |  7725218.5  |  0.05123534601346101  |\n",
      "|      author_score       | average_rating_category |    low     |    high    | -0.2614123020330944  | -0.24839415671387333 |  7258630.5  | 0.0055299361033282115 |\n",
      "+-------------------------+-------------------------+------------+------------+----------------------+----------------------+-------------+-----------------------+\n"
     ]
    }
   ],
   "execution_count": 13
  },
  {
   "metadata": {},
   "cell_type": "markdown",
   "source": [
    "- Only the feature \"revisions_count\" doesn't display a significant association with \"average_rating_category\" based on a Mann-Whitney U test of 95% of confidence level.\n",
    "- The feature \"num_pages\" seems to be the one showing the highest disparity in median between the two categories of \"average-rating_category\"."
   ],
   "id": "63c7e66e5ed26a38"
  },
  {
   "metadata": {
    "ExecuteTime": {
     "end_time": "2025-02-06T19:45:47.656972Z",
     "start_time": "2025-02-06T19:45:47.637827Z"
    }
   },
   "cell_type": "code",
   "source": "data[\"train\"][\"features\"][\"original\"].corr(method=\"spearman\")\n",
   "id": "5badc9efa623317e",
   "outputs": [
    {
     "data": {
      "text/plain": [
       "                         publication_year  num_pages  ratings_count  \\\n",
       "publication_year                 1.000000  -0.021619       0.119471   \n",
       "num_pages                       -0.021619   1.000000       0.184452   \n",
       "ratings_count                    0.119471   0.184452       1.000000   \n",
       "text_reviews_count               0.147009   0.167679       0.958095   \n",
       "revisions_count                  0.071793  -0.004791       0.066001   \n",
       "want_to_read_count               0.053289   0.037586       0.204628   \n",
       "currently_reading_count          0.027503   0.065958       0.190346   \n",
       "already_read_count               0.075558   0.042388       0.288158   \n",
       "publisher_score                 -0.052724   0.065921       0.102403   \n",
       "author_score                    -0.085153   0.049500       0.143845   \n",
       "\n",
       "                         text_reviews_count  revisions_count  \\\n",
       "publication_year                   0.147009         0.071793   \n",
       "num_pages                          0.167679        -0.004791   \n",
       "ratings_count                      0.958095         0.066001   \n",
       "text_reviews_count                 1.000000         0.070460   \n",
       "revisions_count                    0.070460         1.000000   \n",
       "want_to_read_count                 0.212867         0.742990   \n",
       "currently_reading_count            0.208852         0.483225   \n",
       "already_read_count                 0.289988         0.603707   \n",
       "publisher_score                    0.109926         0.001184   \n",
       "author_score                       0.115090        -0.031217   \n",
       "\n",
       "                         want_to_read_count  currently_reading_count  \\\n",
       "publication_year                   0.053289                 0.027503   \n",
       "num_pages                          0.037586                 0.065958   \n",
       "ratings_count                      0.204628                 0.190346   \n",
       "text_reviews_count                 0.212867                 0.208852   \n",
       "revisions_count                    0.742990                 0.483225   \n",
       "want_to_read_count                 1.000000                 0.738843   \n",
       "currently_reading_count            0.738843                 1.000000   \n",
       "already_read_count                 0.839510                 0.709190   \n",
       "publisher_score                    0.017468                 0.036246   \n",
       "author_score                       0.089733                 0.153053   \n",
       "\n",
       "                         already_read_count  publisher_score  author_score  \n",
       "publication_year                   0.075558        -0.052724     -0.085153  \n",
       "num_pages                          0.042388         0.065921      0.049500  \n",
       "ratings_count                      0.288158         0.102403      0.143845  \n",
       "text_reviews_count                 0.289988         0.109926      0.115090  \n",
       "revisions_count                    0.603707         0.001184     -0.031217  \n",
       "want_to_read_count                 0.839510         0.017468      0.089733  \n",
       "currently_reading_count            0.709190         0.036246      0.153053  \n",
       "already_read_count                 1.000000         0.033282      0.168542  \n",
       "publisher_score                    0.033282         1.000000      0.088758  \n",
       "author_score                       0.168542         0.088758      1.000000  "
      ],
      "text/html": [
       "<div>\n",
       "<style scoped>\n",
       "    .dataframe tbody tr th:only-of-type {\n",
       "        vertical-align: middle;\n",
       "    }\n",
       "\n",
       "    .dataframe tbody tr th {\n",
       "        vertical-align: top;\n",
       "    }\n",
       "\n",
       "    .dataframe thead th {\n",
       "        text-align: right;\n",
       "    }\n",
       "</style>\n",
       "<table border=\"1\" class=\"dataframe\">\n",
       "  <thead>\n",
       "    <tr style=\"text-align: right;\">\n",
       "      <th></th>\n",
       "      <th>publication_year</th>\n",
       "      <th>num_pages</th>\n",
       "      <th>ratings_count</th>\n",
       "      <th>text_reviews_count</th>\n",
       "      <th>revisions_count</th>\n",
       "      <th>want_to_read_count</th>\n",
       "      <th>currently_reading_count</th>\n",
       "      <th>already_read_count</th>\n",
       "      <th>publisher_score</th>\n",
       "      <th>author_score</th>\n",
       "    </tr>\n",
       "  </thead>\n",
       "  <tbody>\n",
       "    <tr>\n",
       "      <th>publication_year</th>\n",
       "      <td>1.000000</td>\n",
       "      <td>-0.021619</td>\n",
       "      <td>0.119471</td>\n",
       "      <td>0.147009</td>\n",
       "      <td>0.071793</td>\n",
       "      <td>0.053289</td>\n",
       "      <td>0.027503</td>\n",
       "      <td>0.075558</td>\n",
       "      <td>-0.052724</td>\n",
       "      <td>-0.085153</td>\n",
       "    </tr>\n",
       "    <tr>\n",
       "      <th>num_pages</th>\n",
       "      <td>-0.021619</td>\n",
       "      <td>1.000000</td>\n",
       "      <td>0.184452</td>\n",
       "      <td>0.167679</td>\n",
       "      <td>-0.004791</td>\n",
       "      <td>0.037586</td>\n",
       "      <td>0.065958</td>\n",
       "      <td>0.042388</td>\n",
       "      <td>0.065921</td>\n",
       "      <td>0.049500</td>\n",
       "    </tr>\n",
       "    <tr>\n",
       "      <th>ratings_count</th>\n",
       "      <td>0.119471</td>\n",
       "      <td>0.184452</td>\n",
       "      <td>1.000000</td>\n",
       "      <td>0.958095</td>\n",
       "      <td>0.066001</td>\n",
       "      <td>0.204628</td>\n",
       "      <td>0.190346</td>\n",
       "      <td>0.288158</td>\n",
       "      <td>0.102403</td>\n",
       "      <td>0.143845</td>\n",
       "    </tr>\n",
       "    <tr>\n",
       "      <th>text_reviews_count</th>\n",
       "      <td>0.147009</td>\n",
       "      <td>0.167679</td>\n",
       "      <td>0.958095</td>\n",
       "      <td>1.000000</td>\n",
       "      <td>0.070460</td>\n",
       "      <td>0.212867</td>\n",
       "      <td>0.208852</td>\n",
       "      <td>0.289988</td>\n",
       "      <td>0.109926</td>\n",
       "      <td>0.115090</td>\n",
       "    </tr>\n",
       "    <tr>\n",
       "      <th>revisions_count</th>\n",
       "      <td>0.071793</td>\n",
       "      <td>-0.004791</td>\n",
       "      <td>0.066001</td>\n",
       "      <td>0.070460</td>\n",
       "      <td>1.000000</td>\n",
       "      <td>0.742990</td>\n",
       "      <td>0.483225</td>\n",
       "      <td>0.603707</td>\n",
       "      <td>0.001184</td>\n",
       "      <td>-0.031217</td>\n",
       "    </tr>\n",
       "    <tr>\n",
       "      <th>want_to_read_count</th>\n",
       "      <td>0.053289</td>\n",
       "      <td>0.037586</td>\n",
       "      <td>0.204628</td>\n",
       "      <td>0.212867</td>\n",
       "      <td>0.742990</td>\n",
       "      <td>1.000000</td>\n",
       "      <td>0.738843</td>\n",
       "      <td>0.839510</td>\n",
       "      <td>0.017468</td>\n",
       "      <td>0.089733</td>\n",
       "    </tr>\n",
       "    <tr>\n",
       "      <th>currently_reading_count</th>\n",
       "      <td>0.027503</td>\n",
       "      <td>0.065958</td>\n",
       "      <td>0.190346</td>\n",
       "      <td>0.208852</td>\n",
       "      <td>0.483225</td>\n",
       "      <td>0.738843</td>\n",
       "      <td>1.000000</td>\n",
       "      <td>0.709190</td>\n",
       "      <td>0.036246</td>\n",
       "      <td>0.153053</td>\n",
       "    </tr>\n",
       "    <tr>\n",
       "      <th>already_read_count</th>\n",
       "      <td>0.075558</td>\n",
       "      <td>0.042388</td>\n",
       "      <td>0.288158</td>\n",
       "      <td>0.289988</td>\n",
       "      <td>0.603707</td>\n",
       "      <td>0.839510</td>\n",
       "      <td>0.709190</td>\n",
       "      <td>1.000000</td>\n",
       "      <td>0.033282</td>\n",
       "      <td>0.168542</td>\n",
       "    </tr>\n",
       "    <tr>\n",
       "      <th>publisher_score</th>\n",
       "      <td>-0.052724</td>\n",
       "      <td>0.065921</td>\n",
       "      <td>0.102403</td>\n",
       "      <td>0.109926</td>\n",
       "      <td>0.001184</td>\n",
       "      <td>0.017468</td>\n",
       "      <td>0.036246</td>\n",
       "      <td>0.033282</td>\n",
       "      <td>1.000000</td>\n",
       "      <td>0.088758</td>\n",
       "    </tr>\n",
       "    <tr>\n",
       "      <th>author_score</th>\n",
       "      <td>-0.085153</td>\n",
       "      <td>0.049500</td>\n",
       "      <td>0.143845</td>\n",
       "      <td>0.115090</td>\n",
       "      <td>-0.031217</td>\n",
       "      <td>0.089733</td>\n",
       "      <td>0.153053</td>\n",
       "      <td>0.168542</td>\n",
       "      <td>0.088758</td>\n",
       "      <td>1.000000</td>\n",
       "    </tr>\n",
       "  </tbody>\n",
       "</table>\n",
       "</div>"
      ]
     },
     "execution_count": 14,
     "metadata": {},
     "output_type": "execute_result"
    }
   ],
   "execution_count": 14
  },
  {
   "metadata": {
    "ExecuteTime": {
     "end_time": "2025-02-06T19:45:47.797610Z",
     "start_time": "2025-02-06T19:45:47.729324Z"
    }
   },
   "cell_type": "code",
   "source": "data[\"train\"][\"features\"][\"original\"].corr(method=\"kendall\")\n",
   "id": "4db52dc75c3ba28d",
   "outputs": [
    {
     "data": {
      "text/plain": [
       "                         publication_year  num_pages  ratings_count  \\\n",
       "publication_year                 1.000000  -0.015149       0.081905   \n",
       "num_pages                       -0.015149   1.000000       0.125025   \n",
       "ratings_count                    0.081905   0.125025       1.000000   \n",
       "text_reviews_count               0.101421   0.113308       0.828549   \n",
       "revisions_count                  0.052884  -0.002701       0.048639   \n",
       "want_to_read_count               0.039463   0.027881       0.157819   \n",
       "currently_reading_count          0.021959   0.051628       0.150628   \n",
       "already_read_count               0.058165   0.032222       0.228614   \n",
       "publisher_score                 -0.035922   0.045128       0.067938   \n",
       "author_score                    -0.058693   0.033574       0.097479   \n",
       "\n",
       "                         text_reviews_count  revisions_count  \\\n",
       "publication_year                   0.101421         0.052884   \n",
       "num_pages                          0.113308        -0.002701   \n",
       "ratings_count                      0.828549         0.048639   \n",
       "text_reviews_count                 1.000000         0.052196   \n",
       "revisions_count                    0.052196         1.000000   \n",
       "want_to_read_count                 0.163667         0.590733   \n",
       "currently_reading_count            0.165372         0.403345   \n",
       "already_read_count                 0.227803         0.491482   \n",
       "publisher_score                    0.073759         0.001579   \n",
       "author_score                       0.076877        -0.023281   \n",
       "\n",
       "                         want_to_read_count  currently_reading_count  \\\n",
       "publication_year                   0.039463                 0.021959   \n",
       "num_pages                          0.027881                 0.051628   \n",
       "ratings_count                      0.157819                 0.150628   \n",
       "text_reviews_count                 0.163667                 0.165372   \n",
       "revisions_count                    0.590733                 0.403345   \n",
       "want_to_read_count                 1.000000                 0.668968   \n",
       "currently_reading_count            0.668968                 1.000000   \n",
       "already_read_count                 0.750592                 0.651087   \n",
       "publisher_score                    0.013152                 0.028210   \n",
       "author_score                       0.066219                 0.119505   \n",
       "\n",
       "                         already_read_count  publisher_score  author_score  \n",
       "publication_year                   0.058165        -0.035922     -0.058693  \n",
       "num_pages                          0.032222         0.045128      0.033574  \n",
       "ratings_count                      0.228614         0.067938      0.097479  \n",
       "text_reviews_count                 0.227803         0.073759      0.076877  \n",
       "revisions_count                    0.491482         0.001579     -0.023281  \n",
       "want_to_read_count                 0.750592         0.013152      0.066219  \n",
       "currently_reading_count            0.651087         0.028210      0.119505  \n",
       "already_read_count                 1.000000         0.025048      0.128185  \n",
       "publisher_score                    0.025048         1.000000      0.060667  \n",
       "author_score                       0.128185         0.060667      1.000000  "
      ],
      "text/html": [
       "<div>\n",
       "<style scoped>\n",
       "    .dataframe tbody tr th:only-of-type {\n",
       "        vertical-align: middle;\n",
       "    }\n",
       "\n",
       "    .dataframe tbody tr th {\n",
       "        vertical-align: top;\n",
       "    }\n",
       "\n",
       "    .dataframe thead th {\n",
       "        text-align: right;\n",
       "    }\n",
       "</style>\n",
       "<table border=\"1\" class=\"dataframe\">\n",
       "  <thead>\n",
       "    <tr style=\"text-align: right;\">\n",
       "      <th></th>\n",
       "      <th>publication_year</th>\n",
       "      <th>num_pages</th>\n",
       "      <th>ratings_count</th>\n",
       "      <th>text_reviews_count</th>\n",
       "      <th>revisions_count</th>\n",
       "      <th>want_to_read_count</th>\n",
       "      <th>currently_reading_count</th>\n",
       "      <th>already_read_count</th>\n",
       "      <th>publisher_score</th>\n",
       "      <th>author_score</th>\n",
       "    </tr>\n",
       "  </thead>\n",
       "  <tbody>\n",
       "    <tr>\n",
       "      <th>publication_year</th>\n",
       "      <td>1.000000</td>\n",
       "      <td>-0.015149</td>\n",
       "      <td>0.081905</td>\n",
       "      <td>0.101421</td>\n",
       "      <td>0.052884</td>\n",
       "      <td>0.039463</td>\n",
       "      <td>0.021959</td>\n",
       "      <td>0.058165</td>\n",
       "      <td>-0.035922</td>\n",
       "      <td>-0.058693</td>\n",
       "    </tr>\n",
       "    <tr>\n",
       "      <th>num_pages</th>\n",
       "      <td>-0.015149</td>\n",
       "      <td>1.000000</td>\n",
       "      <td>0.125025</td>\n",
       "      <td>0.113308</td>\n",
       "      <td>-0.002701</td>\n",
       "      <td>0.027881</td>\n",
       "      <td>0.051628</td>\n",
       "      <td>0.032222</td>\n",
       "      <td>0.045128</td>\n",
       "      <td>0.033574</td>\n",
       "    </tr>\n",
       "    <tr>\n",
       "      <th>ratings_count</th>\n",
       "      <td>0.081905</td>\n",
       "      <td>0.125025</td>\n",
       "      <td>1.000000</td>\n",
       "      <td>0.828549</td>\n",
       "      <td>0.048639</td>\n",
       "      <td>0.157819</td>\n",
       "      <td>0.150628</td>\n",
       "      <td>0.228614</td>\n",
       "      <td>0.067938</td>\n",
       "      <td>0.097479</td>\n",
       "    </tr>\n",
       "    <tr>\n",
       "      <th>text_reviews_count</th>\n",
       "      <td>0.101421</td>\n",
       "      <td>0.113308</td>\n",
       "      <td>0.828549</td>\n",
       "      <td>1.000000</td>\n",
       "      <td>0.052196</td>\n",
       "      <td>0.163667</td>\n",
       "      <td>0.165372</td>\n",
       "      <td>0.227803</td>\n",
       "      <td>0.073759</td>\n",
       "      <td>0.076877</td>\n",
       "    </tr>\n",
       "    <tr>\n",
       "      <th>revisions_count</th>\n",
       "      <td>0.052884</td>\n",
       "      <td>-0.002701</td>\n",
       "      <td>0.048639</td>\n",
       "      <td>0.052196</td>\n",
       "      <td>1.000000</td>\n",
       "      <td>0.590733</td>\n",
       "      <td>0.403345</td>\n",
       "      <td>0.491482</td>\n",
       "      <td>0.001579</td>\n",
       "      <td>-0.023281</td>\n",
       "    </tr>\n",
       "    <tr>\n",
       "      <th>want_to_read_count</th>\n",
       "      <td>0.039463</td>\n",
       "      <td>0.027881</td>\n",
       "      <td>0.157819</td>\n",
       "      <td>0.163667</td>\n",
       "      <td>0.590733</td>\n",
       "      <td>1.000000</td>\n",
       "      <td>0.668968</td>\n",
       "      <td>0.750592</td>\n",
       "      <td>0.013152</td>\n",
       "      <td>0.066219</td>\n",
       "    </tr>\n",
       "    <tr>\n",
       "      <th>currently_reading_count</th>\n",
       "      <td>0.021959</td>\n",
       "      <td>0.051628</td>\n",
       "      <td>0.150628</td>\n",
       "      <td>0.165372</td>\n",
       "      <td>0.403345</td>\n",
       "      <td>0.668968</td>\n",
       "      <td>1.000000</td>\n",
       "      <td>0.651087</td>\n",
       "      <td>0.028210</td>\n",
       "      <td>0.119505</td>\n",
       "    </tr>\n",
       "    <tr>\n",
       "      <th>already_read_count</th>\n",
       "      <td>0.058165</td>\n",
       "      <td>0.032222</td>\n",
       "      <td>0.228614</td>\n",
       "      <td>0.227803</td>\n",
       "      <td>0.491482</td>\n",
       "      <td>0.750592</td>\n",
       "      <td>0.651087</td>\n",
       "      <td>1.000000</td>\n",
       "      <td>0.025048</td>\n",
       "      <td>0.128185</td>\n",
       "    </tr>\n",
       "    <tr>\n",
       "      <th>publisher_score</th>\n",
       "      <td>-0.035922</td>\n",
       "      <td>0.045128</td>\n",
       "      <td>0.067938</td>\n",
       "      <td>0.073759</td>\n",
       "      <td>0.001579</td>\n",
       "      <td>0.013152</td>\n",
       "      <td>0.028210</td>\n",
       "      <td>0.025048</td>\n",
       "      <td>1.000000</td>\n",
       "      <td>0.060667</td>\n",
       "    </tr>\n",
       "    <tr>\n",
       "      <th>author_score</th>\n",
       "      <td>-0.058693</td>\n",
       "      <td>0.033574</td>\n",
       "      <td>0.097479</td>\n",
       "      <td>0.076877</td>\n",
       "      <td>-0.023281</td>\n",
       "      <td>0.066219</td>\n",
       "      <td>0.119505</td>\n",
       "      <td>0.128185</td>\n",
       "      <td>0.060667</td>\n",
       "      <td>1.000000</td>\n",
       "    </tr>\n",
       "  </tbody>\n",
       "</table>\n",
       "</div>"
      ]
     },
     "execution_count": 15,
     "metadata": {},
     "output_type": "execute_result"
    }
   ],
   "execution_count": 15
  },
  {
   "metadata": {},
   "cell_type": "markdown",
   "source": "Both Spearman and Kendall are showing that features such as \"ratings_count\", \"text_reviews_count\", \"revisions_count\", \"currently_reading_count\", \"already_read_count\" and \"want_to_read_count\" are highly correlated.",
   "id": "1c9b3e93de73a2e8"
  },
  {
   "metadata": {
    "ExecuteTime": {
     "end_time": "2025-02-06T19:45:47.849460Z",
     "start_time": "2025-02-06T19:45:47.846176Z"
    }
   },
   "cell_type": "code",
   "source": "del results\n",
   "id": "d6f76b885cc77e36",
   "outputs": [],
   "execution_count": 16
  },
  {
   "metadata": {
    "ExecuteTime": {
     "end_time": "2025-02-06T19:45:47.949524Z",
     "start_time": "2025-02-06T19:45:47.946372Z"
    }
   },
   "cell_type": "code",
   "source": "",
   "id": "f89b6e9b8916f409",
   "outputs": [],
   "execution_count": null
  },
  {
   "metadata": {},
   "cell_type": "markdown",
   "source": "### _Features noisy version_",
   "id": "af2ff2e9dc262b7"
  },
  {
   "metadata": {
    "ExecuteTime": {
     "end_time": "2025-02-06T19:45:48.082869Z",
     "start_time": "2025-02-06T19:45:48.050715Z"
    }
   },
   "cell_type": "code",
   "source": [
    "results = []\n",
    "\n",
    "for feature in noise_df.columns:\n",
    "    for target in target_df.columns:\n",
    "        feature_data = original_df[feature]\n",
    "        target_data = target_df[target]\n",
    "\n",
    "        categories = target_data.unique()\n",
    "\n",
    "        group1 = feature_data[target_data == categories[0]]\n",
    "        group2 = feature_data[target_data == categories[1]]\n",
    "\n",
    "        statistic, p_value = stats.mannwhitneyu(group1, group2, alternative='two-sided')\n",
    "\n",
    "        median1 = np.median(group1)\n",
    "        median2 = np.median(group2)\n",
    "\n",
    "        results.append({\n",
    "            'Feature': feature,\n",
    "            'Target': target,\n",
    "            'Category 1': categories[0],\n",
    "            'Category 2': categories[1],\n",
    "            'Median 1': median1,\n",
    "            'Median 2': median2,\n",
    "            'U-statistic': statistic,\n",
    "            'p-value': p_value\n",
    "        })\n",
    "\n",
    "print(tabulate(pd.DataFrame(results), headers=\"keys\", tablefmt=\"pretty\", showindex=False, floatfmt=\".4f\"))\n"
   ],
   "id": "6bcd7ba798814657",
   "outputs": [
    {
     "name": "stdout",
     "output_type": "stream",
     "text": [
      "+-------------------------+-------------------------+------------+------------+----------------------+----------------------+-------------+-----------------------+\n",
      "|         Feature         |         Target          | Category 1 | Category 2 |       Median 1       |       Median 2       | U-statistic |        p-value        |\n",
      "+-------------------------+-------------------------+------------+------------+----------------------+----------------------+-------------+-----------------------+\n",
      "|    publication_year     | average_rating_category |    low     |    high    |  0.350902400503029   | 0.22940009872457537  |  7855356.5  | 0.001041577173996971  |\n",
      "|        num_pages        | average_rating_category |    low     |    high    | -0.20126385321108434 | -0.09896887622028115 |  6782957.5  | 3.185132031172993e-14 |\n",
      "|      ratings_count      | average_rating_category |    low     |    high    | -0.16278617303662485 | -0.16002891684236784 |  6954479.5  | 4.806702647570456e-09 |\n",
      "|   text_reviews_count    | average_rating_category |    low     |    high    | -0.19337102608461867 | -0.19138160802138826 |  7326117.5  |  0.03648146880667034  |\n",
      "|     revisions_count     | average_rating_category |    low     |    high    | 0.06635011583215639  | 0.06635011583215639  |  7559299.5  |  0.7816166925322237   |\n",
      "|   want_to_read_count    | average_rating_category |    low     |    high    | -0.13423845471924029 | -0.13423845471924029 |  7224005.5  | 0.0009299008125571354 |\n",
      "| currently_reading_count | average_rating_category |    low     |    high    | -0.11233646565357525 | -0.11233646565357525 |  7219290.5  | 2.685041166014433e-05 |\n",
      "|   already_read_count    | average_rating_category |    low     |    high    | -0.20218892832280957 | -0.20218892832280957 |  7245513.0  | 0.0008355597824867352 |\n",
      "|     publisher_score     | average_rating_category |    low     |    high    | -0.37550099144911553 | -0.39673810681675864 |  7725218.5  |  0.05123534601346101  |\n",
      "|      author_score       | average_rating_category |    low     |    high    | -0.2614123020330944  | -0.24839415671387333 |  7258630.5  | 0.0055299361033282115 |\n",
      "+-------------------------+-------------------------+------------+------------+----------------------+----------------------+-------------+-----------------------+\n"
     ]
    }
   ],
   "execution_count": 17
  },
  {
   "metadata": {},
   "cell_type": "markdown",
   "source": [
    "Compared to the original features' case :\n",
    "- Features \"revisions_count\" and \"publisher_score\" don't display a significant association with \"average_rating_category\" based on a Mann-Whitney U test of 95% of confidence level, but this is more visible for \"revisions-count\".\n",
    "- The feature \"num_pages\" is still the one showing the highest disparity in medians between the two categories of \"average-rating_category\"."
   ],
   "id": "e6210b5453da9723"
  },
  {
   "metadata": {
    "ExecuteTime": {
     "end_time": "2025-02-06T19:45:48.301417Z",
     "start_time": "2025-02-06T19:45:48.105986Z"
    }
   },
   "cell_type": "code",
   "source": [
    "del results, target_df, original_df, noise_df\n",
    "gc.collect()\n"
   ],
   "id": "ecafb6d4c39c91e4",
   "outputs": [
    {
     "data": {
      "text/plain": [
       "10"
      ]
     },
     "execution_count": 18,
     "metadata": {},
     "output_type": "execute_result"
    }
   ],
   "execution_count": 18
  },
  {
   "metadata": {
    "ExecuteTime": {
     "end_time": "2025-02-06T19:45:48.357445Z",
     "start_time": "2025-02-06T19:45:48.339343Z"
    }
   },
   "cell_type": "code",
   "source": "data[\"train\"][\"features\"][\"noise\"].corr(method=\"spearman\")\n",
   "id": "3c889e201eff5e40",
   "outputs": [
    {
     "data": {
      "text/plain": [
       "                         publication_year  num_pages  ratings_count  \\\n",
       "publication_year                 1.000000  -0.025707       0.115630   \n",
       "num_pages                       -0.025707   1.000000       0.184398   \n",
       "ratings_count                    0.115630   0.184398       1.000000   \n",
       "text_reviews_count               0.143182   0.167558       0.957758   \n",
       "revisions_count                  0.065877  -0.007554       0.066918   \n",
       "want_to_read_count               0.048065   0.041414       0.197907   \n",
       "currently_reading_count          0.019598   0.051272       0.141110   \n",
       "already_read_count               0.064265   0.031990       0.245060   \n",
       "publisher_score                 -0.054108   0.065678       0.102381   \n",
       "author_score                    -0.084483   0.049590       0.143844   \n",
       "\n",
       "                         text_reviews_count  revisions_count  \\\n",
       "publication_year                   0.143182         0.065877   \n",
       "num_pages                          0.167558        -0.007554   \n",
       "ratings_count                      0.957758         0.066918   \n",
       "text_reviews_count                 1.000000         0.072041   \n",
       "revisions_count                    0.072041         1.000000   \n",
       "want_to_read_count                 0.204941         0.670525   \n",
       "currently_reading_count            0.156177         0.335960   \n",
       "already_read_count                 0.245498         0.496966   \n",
       "publisher_score                    0.109870         0.002019   \n",
       "author_score                       0.115024        -0.029887   \n",
       "\n",
       "                         want_to_read_count  currently_reading_count  \\\n",
       "publication_year                   0.048065                 0.019598   \n",
       "num_pages                          0.041414                 0.051272   \n",
       "ratings_count                      0.197907                 0.141110   \n",
       "text_reviews_count                 0.204941                 0.156177   \n",
       "revisions_count                    0.670525                 0.335960   \n",
       "want_to_read_count                 1.000000                 0.519936   \n",
       "currently_reading_count            0.519936                 1.000000   \n",
       "already_read_count                 0.665729                 0.449943   \n",
       "publisher_score                    0.011211                 0.023647   \n",
       "author_score                       0.090238                 0.116379   \n",
       "\n",
       "                         already_read_count  publisher_score  author_score  \n",
       "publication_year                   0.064265        -0.054108     -0.084483  \n",
       "num_pages                          0.031990         0.065678      0.049590  \n",
       "ratings_count                      0.245060         0.102381      0.143844  \n",
       "text_reviews_count                 0.245498         0.109870      0.115024  \n",
       "revisions_count                    0.496966         0.002019     -0.029887  \n",
       "want_to_read_count                 0.665729         0.011211      0.090238  \n",
       "currently_reading_count            0.449943         0.023647      0.116379  \n",
       "already_read_count                 1.000000         0.026530      0.151196  \n",
       "publisher_score                    0.026530         1.000000      0.088866  \n",
       "author_score                       0.151196         0.088866      1.000000  "
      ],
      "text/html": [
       "<div>\n",
       "<style scoped>\n",
       "    .dataframe tbody tr th:only-of-type {\n",
       "        vertical-align: middle;\n",
       "    }\n",
       "\n",
       "    .dataframe tbody tr th {\n",
       "        vertical-align: top;\n",
       "    }\n",
       "\n",
       "    .dataframe thead th {\n",
       "        text-align: right;\n",
       "    }\n",
       "</style>\n",
       "<table border=\"1\" class=\"dataframe\">\n",
       "  <thead>\n",
       "    <tr style=\"text-align: right;\">\n",
       "      <th></th>\n",
       "      <th>publication_year</th>\n",
       "      <th>num_pages</th>\n",
       "      <th>ratings_count</th>\n",
       "      <th>text_reviews_count</th>\n",
       "      <th>revisions_count</th>\n",
       "      <th>want_to_read_count</th>\n",
       "      <th>currently_reading_count</th>\n",
       "      <th>already_read_count</th>\n",
       "      <th>publisher_score</th>\n",
       "      <th>author_score</th>\n",
       "    </tr>\n",
       "  </thead>\n",
       "  <tbody>\n",
       "    <tr>\n",
       "      <th>publication_year</th>\n",
       "      <td>1.000000</td>\n",
       "      <td>-0.025707</td>\n",
       "      <td>0.115630</td>\n",
       "      <td>0.143182</td>\n",
       "      <td>0.065877</td>\n",
       "      <td>0.048065</td>\n",
       "      <td>0.019598</td>\n",
       "      <td>0.064265</td>\n",
       "      <td>-0.054108</td>\n",
       "      <td>-0.084483</td>\n",
       "    </tr>\n",
       "    <tr>\n",
       "      <th>num_pages</th>\n",
       "      <td>-0.025707</td>\n",
       "      <td>1.000000</td>\n",
       "      <td>0.184398</td>\n",
       "      <td>0.167558</td>\n",
       "      <td>-0.007554</td>\n",
       "      <td>0.041414</td>\n",
       "      <td>0.051272</td>\n",
       "      <td>0.031990</td>\n",
       "      <td>0.065678</td>\n",
       "      <td>0.049590</td>\n",
       "    </tr>\n",
       "    <tr>\n",
       "      <th>ratings_count</th>\n",
       "      <td>0.115630</td>\n",
       "      <td>0.184398</td>\n",
       "      <td>1.000000</td>\n",
       "      <td>0.957758</td>\n",
       "      <td>0.066918</td>\n",
       "      <td>0.197907</td>\n",
       "      <td>0.141110</td>\n",
       "      <td>0.245060</td>\n",
       "      <td>0.102381</td>\n",
       "      <td>0.143844</td>\n",
       "    </tr>\n",
       "    <tr>\n",
       "      <th>text_reviews_count</th>\n",
       "      <td>0.143182</td>\n",
       "      <td>0.167558</td>\n",
       "      <td>0.957758</td>\n",
       "      <td>1.000000</td>\n",
       "      <td>0.072041</td>\n",
       "      <td>0.204941</td>\n",
       "      <td>0.156177</td>\n",
       "      <td>0.245498</td>\n",
       "      <td>0.109870</td>\n",
       "      <td>0.115024</td>\n",
       "    </tr>\n",
       "    <tr>\n",
       "      <th>revisions_count</th>\n",
       "      <td>0.065877</td>\n",
       "      <td>-0.007554</td>\n",
       "      <td>0.066918</td>\n",
       "      <td>0.072041</td>\n",
       "      <td>1.000000</td>\n",
       "      <td>0.670525</td>\n",
       "      <td>0.335960</td>\n",
       "      <td>0.496966</td>\n",
       "      <td>0.002019</td>\n",
       "      <td>-0.029887</td>\n",
       "    </tr>\n",
       "    <tr>\n",
       "      <th>want_to_read_count</th>\n",
       "      <td>0.048065</td>\n",
       "      <td>0.041414</td>\n",
       "      <td>0.197907</td>\n",
       "      <td>0.204941</td>\n",
       "      <td>0.670525</td>\n",
       "      <td>1.000000</td>\n",
       "      <td>0.519936</td>\n",
       "      <td>0.665729</td>\n",
       "      <td>0.011211</td>\n",
       "      <td>0.090238</td>\n",
       "    </tr>\n",
       "    <tr>\n",
       "      <th>currently_reading_count</th>\n",
       "      <td>0.019598</td>\n",
       "      <td>0.051272</td>\n",
       "      <td>0.141110</td>\n",
       "      <td>0.156177</td>\n",
       "      <td>0.335960</td>\n",
       "      <td>0.519936</td>\n",
       "      <td>1.000000</td>\n",
       "      <td>0.449943</td>\n",
       "      <td>0.023647</td>\n",
       "      <td>0.116379</td>\n",
       "    </tr>\n",
       "    <tr>\n",
       "      <th>already_read_count</th>\n",
       "      <td>0.064265</td>\n",
       "      <td>0.031990</td>\n",
       "      <td>0.245060</td>\n",
       "      <td>0.245498</td>\n",
       "      <td>0.496966</td>\n",
       "      <td>0.665729</td>\n",
       "      <td>0.449943</td>\n",
       "      <td>1.000000</td>\n",
       "      <td>0.026530</td>\n",
       "      <td>0.151196</td>\n",
       "    </tr>\n",
       "    <tr>\n",
       "      <th>publisher_score</th>\n",
       "      <td>-0.054108</td>\n",
       "      <td>0.065678</td>\n",
       "      <td>0.102381</td>\n",
       "      <td>0.109870</td>\n",
       "      <td>0.002019</td>\n",
       "      <td>0.011211</td>\n",
       "      <td>0.023647</td>\n",
       "      <td>0.026530</td>\n",
       "      <td>1.000000</td>\n",
       "      <td>0.088866</td>\n",
       "    </tr>\n",
       "    <tr>\n",
       "      <th>author_score</th>\n",
       "      <td>-0.084483</td>\n",
       "      <td>0.049590</td>\n",
       "      <td>0.143844</td>\n",
       "      <td>0.115024</td>\n",
       "      <td>-0.029887</td>\n",
       "      <td>0.090238</td>\n",
       "      <td>0.116379</td>\n",
       "      <td>0.151196</td>\n",
       "      <td>0.088866</td>\n",
       "      <td>1.000000</td>\n",
       "    </tr>\n",
       "  </tbody>\n",
       "</table>\n",
       "</div>"
      ]
     },
     "execution_count": 19,
     "metadata": {},
     "output_type": "execute_result"
    }
   ],
   "execution_count": 19
  },
  {
   "metadata": {
    "ExecuteTime": {
     "end_time": "2025-02-06T19:45:48.468322Z",
     "start_time": "2025-02-06T19:45:48.407116Z"
    }
   },
   "cell_type": "code",
   "source": "data[\"train\"][\"features\"][\"noise\"].corr(method=\"kendall\")\n",
   "id": "b5b5f862d40766c7",
   "outputs": [
    {
     "data": {
      "text/plain": [
       "                         publication_year  num_pages  ratings_count  \\\n",
       "publication_year                 1.000000  -0.017379       0.076599   \n",
       "num_pages                       -0.017379   1.000000       0.124549   \n",
       "ratings_count                    0.076599   0.124549       1.000000   \n",
       "text_reviews_count               0.095026   0.112374       0.823163   \n",
       "revisions_count                  0.044062  -0.004501       0.046043   \n",
       "want_to_read_count               0.031901   0.028245       0.140678   \n",
       "currently_reading_count          0.013082   0.034112       0.095860   \n",
       "already_read_count               0.042652   0.021417       0.172580   \n",
       "publisher_score                 -0.035700   0.044710       0.067705   \n",
       "author_score                    -0.056332   0.033505       0.097356   \n",
       "\n",
       "                         text_reviews_count  revisions_count  \\\n",
       "publication_year                   0.095026         0.044062   \n",
       "num_pages                          0.112374        -0.004501   \n",
       "ratings_count                      0.823163         0.046043   \n",
       "text_reviews_count                 1.000000         0.049537   \n",
       "revisions_count                    0.049537         1.000000   \n",
       "want_to_read_count                 0.144603         0.462354   \n",
       "currently_reading_count            0.105857         0.225807   \n",
       "already_read_count                 0.170381         0.336227   \n",
       "publisher_score                    0.073149         0.002060   \n",
       "author_score                       0.076394        -0.020921   \n",
       "\n",
       "                         want_to_read_count  currently_reading_count  \\\n",
       "publication_year                   0.031901                 0.013082   \n",
       "num_pages                          0.028245                 0.034112   \n",
       "ratings_count                      0.140678                 0.095860   \n",
       "text_reviews_count                 0.144603                 0.105857   \n",
       "revisions_count                    0.462354                 0.225807   \n",
       "want_to_read_count                 1.000000                 0.374187   \n",
       "currently_reading_count            0.374187                 1.000000   \n",
       "already_read_count                 0.486919                 0.315317   \n",
       "publisher_score                    0.008058                 0.015859   \n",
       "author_score                       0.061401                 0.078149   \n",
       "\n",
       "                         already_read_count  publisher_score  author_score  \n",
       "publication_year                   0.042652        -0.035700     -0.056332  \n",
       "num_pages                          0.021417         0.044710      0.033505  \n",
       "ratings_count                      0.172580         0.067705      0.097356  \n",
       "text_reviews_count                 0.170381         0.073149      0.076394  \n",
       "revisions_count                    0.336227         0.002060     -0.020921  \n",
       "want_to_read_count                 0.486919         0.008058      0.061401  \n",
       "currently_reading_count            0.315317         0.015859      0.078149  \n",
       "already_read_count                 1.000000         0.017712      0.101983  \n",
       "publisher_score                    0.017712         1.000000      0.060576  \n",
       "author_score                       0.101983         0.060576      1.000000  "
      ],
      "text/html": [
       "<div>\n",
       "<style scoped>\n",
       "    .dataframe tbody tr th:only-of-type {\n",
       "        vertical-align: middle;\n",
       "    }\n",
       "\n",
       "    .dataframe tbody tr th {\n",
       "        vertical-align: top;\n",
       "    }\n",
       "\n",
       "    .dataframe thead th {\n",
       "        text-align: right;\n",
       "    }\n",
       "</style>\n",
       "<table border=\"1\" class=\"dataframe\">\n",
       "  <thead>\n",
       "    <tr style=\"text-align: right;\">\n",
       "      <th></th>\n",
       "      <th>publication_year</th>\n",
       "      <th>num_pages</th>\n",
       "      <th>ratings_count</th>\n",
       "      <th>text_reviews_count</th>\n",
       "      <th>revisions_count</th>\n",
       "      <th>want_to_read_count</th>\n",
       "      <th>currently_reading_count</th>\n",
       "      <th>already_read_count</th>\n",
       "      <th>publisher_score</th>\n",
       "      <th>author_score</th>\n",
       "    </tr>\n",
       "  </thead>\n",
       "  <tbody>\n",
       "    <tr>\n",
       "      <th>publication_year</th>\n",
       "      <td>1.000000</td>\n",
       "      <td>-0.017379</td>\n",
       "      <td>0.076599</td>\n",
       "      <td>0.095026</td>\n",
       "      <td>0.044062</td>\n",
       "      <td>0.031901</td>\n",
       "      <td>0.013082</td>\n",
       "      <td>0.042652</td>\n",
       "      <td>-0.035700</td>\n",
       "      <td>-0.056332</td>\n",
       "    </tr>\n",
       "    <tr>\n",
       "      <th>num_pages</th>\n",
       "      <td>-0.017379</td>\n",
       "      <td>1.000000</td>\n",
       "      <td>0.124549</td>\n",
       "      <td>0.112374</td>\n",
       "      <td>-0.004501</td>\n",
       "      <td>0.028245</td>\n",
       "      <td>0.034112</td>\n",
       "      <td>0.021417</td>\n",
       "      <td>0.044710</td>\n",
       "      <td>0.033505</td>\n",
       "    </tr>\n",
       "    <tr>\n",
       "      <th>ratings_count</th>\n",
       "      <td>0.076599</td>\n",
       "      <td>0.124549</td>\n",
       "      <td>1.000000</td>\n",
       "      <td>0.823163</td>\n",
       "      <td>0.046043</td>\n",
       "      <td>0.140678</td>\n",
       "      <td>0.095860</td>\n",
       "      <td>0.172580</td>\n",
       "      <td>0.067705</td>\n",
       "      <td>0.097356</td>\n",
       "    </tr>\n",
       "    <tr>\n",
       "      <th>text_reviews_count</th>\n",
       "      <td>0.095026</td>\n",
       "      <td>0.112374</td>\n",
       "      <td>0.823163</td>\n",
       "      <td>1.000000</td>\n",
       "      <td>0.049537</td>\n",
       "      <td>0.144603</td>\n",
       "      <td>0.105857</td>\n",
       "      <td>0.170381</td>\n",
       "      <td>0.073149</td>\n",
       "      <td>0.076394</td>\n",
       "    </tr>\n",
       "    <tr>\n",
       "      <th>revisions_count</th>\n",
       "      <td>0.044062</td>\n",
       "      <td>-0.004501</td>\n",
       "      <td>0.046043</td>\n",
       "      <td>0.049537</td>\n",
       "      <td>1.000000</td>\n",
       "      <td>0.462354</td>\n",
       "      <td>0.225807</td>\n",
       "      <td>0.336227</td>\n",
       "      <td>0.002060</td>\n",
       "      <td>-0.020921</td>\n",
       "    </tr>\n",
       "    <tr>\n",
       "      <th>want_to_read_count</th>\n",
       "      <td>0.031901</td>\n",
       "      <td>0.028245</td>\n",
       "      <td>0.140678</td>\n",
       "      <td>0.144603</td>\n",
       "      <td>0.462354</td>\n",
       "      <td>1.000000</td>\n",
       "      <td>0.374187</td>\n",
       "      <td>0.486919</td>\n",
       "      <td>0.008058</td>\n",
       "      <td>0.061401</td>\n",
       "    </tr>\n",
       "    <tr>\n",
       "      <th>currently_reading_count</th>\n",
       "      <td>0.013082</td>\n",
       "      <td>0.034112</td>\n",
       "      <td>0.095860</td>\n",
       "      <td>0.105857</td>\n",
       "      <td>0.225807</td>\n",
       "      <td>0.374187</td>\n",
       "      <td>1.000000</td>\n",
       "      <td>0.315317</td>\n",
       "      <td>0.015859</td>\n",
       "      <td>0.078149</td>\n",
       "    </tr>\n",
       "    <tr>\n",
       "      <th>already_read_count</th>\n",
       "      <td>0.042652</td>\n",
       "      <td>0.021417</td>\n",
       "      <td>0.172580</td>\n",
       "      <td>0.170381</td>\n",
       "      <td>0.336227</td>\n",
       "      <td>0.486919</td>\n",
       "      <td>0.315317</td>\n",
       "      <td>1.000000</td>\n",
       "      <td>0.017712</td>\n",
       "      <td>0.101983</td>\n",
       "    </tr>\n",
       "    <tr>\n",
       "      <th>publisher_score</th>\n",
       "      <td>-0.035700</td>\n",
       "      <td>0.044710</td>\n",
       "      <td>0.067705</td>\n",
       "      <td>0.073149</td>\n",
       "      <td>0.002060</td>\n",
       "      <td>0.008058</td>\n",
       "      <td>0.015859</td>\n",
       "      <td>0.017712</td>\n",
       "      <td>1.000000</td>\n",
       "      <td>0.060576</td>\n",
       "    </tr>\n",
       "    <tr>\n",
       "      <th>author_score</th>\n",
       "      <td>-0.056332</td>\n",
       "      <td>0.033505</td>\n",
       "      <td>0.097356</td>\n",
       "      <td>0.076394</td>\n",
       "      <td>-0.020921</td>\n",
       "      <td>0.061401</td>\n",
       "      <td>0.078149</td>\n",
       "      <td>0.101983</td>\n",
       "      <td>0.060576</td>\n",
       "      <td>1.000000</td>\n",
       "    </tr>\n",
       "  </tbody>\n",
       "</table>\n",
       "</div>"
      ]
     },
     "execution_count": 20,
     "metadata": {},
     "output_type": "execute_result"
    }
   ],
   "execution_count": 20
  },
  {
   "metadata": {},
   "cell_type": "markdown",
   "source": [
    "- Results showed by Spearman and Kendall correlations are similar to those obtained with the original features version.\n",
    "- Using PCA to dissolve these correlations would be a great move before introducing them into a model."
   ],
   "id": "7694d1bc6209cfca"
  },
  {
   "metadata": {
    "ExecuteTime": {
     "end_time": "2025-02-06T19:45:48.683053Z",
     "start_time": "2025-02-06T19:45:48.497171Z"
    }
   },
   "cell_type": "code",
   "source": "gc.collect()",
   "id": "2330c5386d68fca1",
   "outputs": [
    {
     "data": {
      "text/plain": [
       "10"
      ]
     },
     "execution_count": 21,
     "metadata": {},
     "output_type": "execute_result"
    }
   ],
   "execution_count": 21
  },
  {
   "metadata": {
    "ExecuteTime": {
     "end_time": "2025-02-06T19:45:48.718508Z",
     "start_time": "2025-02-06T19:45:48.715508Z"
    }
   },
   "cell_type": "code",
   "source": "",
   "id": "b196ad7372ca0fa4",
   "outputs": [],
   "execution_count": null
  },
  {
   "metadata": {},
   "cell_type": "markdown",
   "source": "### _Target_",
   "id": "a02fcf1a523ed4cd"
  },
  {
   "metadata": {
    "ExecuteTime": {
     "end_time": "2025-02-06T19:45:48.911247Z",
     "start_time": "2025-02-06T19:45:48.757139Z"
    }
   },
   "cell_type": "code",
   "source": [
    "fig, axes = plt.subplots(1, 2, figsize=(12, 5))\n",
    "\n",
    "for idx, (dataset_type, dataset) in enumerate(data.items()):\n",
    "    ax = axes[idx]\n",
    "    target_df = dataset[\"targets\"]\n",
    "\n",
    "    category_percentages = target_df.value_counts() / len(target_df) * 100\n",
    "\n",
    "    category_percentages.plot(kind=\"bar\", ax=ax)\n",
    "    ax.set_title(f\"Distribution of Average Rating (Dataset: {dataset_type.capitalize()})\")\n",
    "    ax.set_xlabel(\"Rating Category\")\n",
    "    ax.set_ylabel(\"Percentage\")\n",
    "\n",
    "    for i, v in enumerate(category_percentages):\n",
    "        ax.text(i, v, f'{v:.1f}%', ha='center', va='bottom')\n",
    "\n",
    "plt.tight_layout()\n",
    "plt.show()\n"
   ],
   "id": "efcce7908b39825f",
   "outputs": [
    {
     "data": {
      "text/plain": [
       "<Figure size 1200x500 with 2 Axes>"
      ],
      "image/png": "[encoded data removed]"
     },
     "metadata": {},
     "output_type": "display_data"
    }
   ],
   "execution_count": 22
  },
  {
   "metadata": {},
   "cell_type": "markdown",
   "source": "The distribution of the target \"average_rating_category\" is well-balanced across all datasets.",
   "id": "43c95c4a02352852"
  },
  {
   "metadata": {
    "ExecuteTime": {
     "end_time": "2025-02-06T19:45:48.941989Z",
     "start_time": "2025-02-06T19:45:48.937824Z"
    }
   },
   "cell_type": "code",
   "source": "",
   "id": "8768577222e457b4",
   "outputs": [],
   "execution_count": null
  },
  {
   "metadata": {},
   "cell_type": "markdown",
   "source": "## Launch MLflow server to record some experiments",
   "id": "c12eb465305d4039"
  },
  {
   "metadata": {},
   "cell_type": "markdown",
   "source": [
    "We will run some MLflow experiments locally. Before going any further from the section `pca + linear regression + elasticnet`, don't forget to start your local server with commands such as :\n",
    "\n",
    "`mlflow server --host localhost --port 9999`.\n",
    "\n",
    "You can change the server uri and port according to your setup."
   ],
   "id": "9461ab50d1784ce7"
  },
  {
   "metadata": {
    "ExecuteTime": {
     "end_time": "2025-02-06T19:45:48.953228Z",
     "start_time": "2025-02-06T19:45:48.947574Z"
    }
   },
   "cell_type": "code",
   "source": "mlflow.set_tracking_uri(\"http://localhost:9999\")",
   "id": "11084daeb754dab8",
   "outputs": [],
   "execution_count": 23
  },
  {
   "metadata": {
    "ExecuteTime": {
     "end_time": "2025-02-06T19:45:49.001724Z",
     "start_time": "2025-02-06T19:45:48.999538Z"
    }
   },
   "cell_type": "code",
   "source": "",
   "id": "45efc2c292e1196f",
   "outputs": [],
   "execution_count": null
  },
  {
   "metadata": {},
   "cell_type": "markdown",
   "source": [
    "\n",
    "In all of our following predictions, we will be more interested in prediction well when a book average-rating is lower than3.94 (a low quality book) since we choose the case of an online recommendation system in which we want to provide our users with the best quality books.\n",
    "\n",
    "We will recode low as 1 and high as 0, then will use both the log-loss and the precision_score as goodness-of-fit metrics to evaluate our results.\n"
   ],
   "id": "d84c11e18c0274be"
  },
  {
   "metadata": {},
   "cell_type": "markdown",
   "source": "## Linear models",
   "id": "9099b9ec002080c5"
  },
  {
   "metadata": {},
   "cell_type": "markdown",
   "source": "### pca + logistic regression",
   "id": "2389d1abf3b41c53"
  },
  {
   "metadata": {},
   "cell_type": "markdown",
   "source": "We're training a basic logistic regression (base configurations) on all PCA components of both original and noisy features.",
   "id": "ef0f7c16587151e8"
  },
  {
   "metadata": {
    "ExecuteTime": {
     "end_time": "2025-02-06T19:45:49.016915Z",
     "start_time": "2025-02-06T19:45:49.006732Z"
    }
   },
   "cell_type": "code",
   "source": [
    "new_train_target_df = data[\"train\"][\"targets\"].copy(deep=True)\n",
    "new_train_target_df = pd.DataFrame(\n",
    "    new_train_target_df[\"average_rating_category\"].apply(lambda x: 1 if x == \"low\" else 0).map(int), columns=[\"average_rating_category\"]\n",
    ")\n",
    "\n",
    "new_test_target_df = data[\"test\"][\"targets\"].copy(deep=True)\n",
    "new_test_target_df = pd.DataFrame(\n",
    "    new_test_target_df[\"average_rating_category\"].apply(lambda x: 1 if x == \"low\" else 0).map(int), columns=[\"average_rating_category\"]\n",
    ")\n"
   ],
   "id": "31c35fc03d16b9cc",
   "outputs": [],
   "execution_count": 24
  },
  {
   "metadata": {
    "ExecuteTime": {
     "end_time": "2025-02-06T19:45:52.533559Z",
     "start_time": "2025-02-06T19:45:49.039059Z"
    }
   },
   "cell_type": "code",
   "source": [
    "training_pca_results = {\n",
    "    \"original\": pca_logistic_classifier(\n",
    "        features_df=data[\"train\"][\"features\"][\"original\"],\n",
    "        targets_df=new_train_target_df,\n",
    "        operation_mode=\"train\",\n",
    "    ),\n",
    "    \"noise\": pca_logistic_classifier(\n",
    "        features_df=data[\"train\"][\"features\"][\"noise\"],\n",
    "        targets_df=new_train_target_df,\n",
    "        operation_mode=\"train\",\n",
    "    ),\n",
    "}\n"
   ],
   "id": "c47614e53cd1d9a8",
   "outputs": [],
   "execution_count": 25
  },
  {
   "metadata": {
    "ExecuteTime": {
     "end_time": "2025-02-06T19:45:52.597357Z",
     "start_time": "2025-02-06T19:45:52.583791Z"
    }
   },
   "cell_type": "code",
   "source": [
    "test_pca_results = {\n",
    "    \"original\": pca_logistic_classifier(\n",
    "        features_df=data[\"test\"][\"features\"][\"original\"],\n",
    "        targets_df=new_test_target_df,\n",
    "        operation_mode=\"test\",\n",
    "        prediction_models=training_pca_results[\"original\"],\n",
    "    ),\n",
    "    \"noise\": pca_logistic_classifier(\n",
    "        features_df=data[\"test\"][\"features\"][\"noise\"],\n",
    "        targets_df=new_test_target_df,\n",
    "        operation_mode=\"test\",\n",
    "        prediction_models=training_pca_results[\"noise\"],\n",
    "    ),\n",
    "}\n"
   ],
   "id": "f47b8623967fecd8",
   "outputs": [],
   "execution_count": 26
  },
  {
   "metadata": {
    "ExecuteTime": {
     "end_time": "2025-02-06T19:45:52.611778Z",
     "start_time": "2025-02-06T19:45:52.602840Z"
    }
   },
   "cell_type": "code",
   "source": [
    "pca_perfs = []\n",
    "\n",
    "for target_name in data[\"train\"][\"targets\"].columns:\n",
    "    for version in [\"original\", \"noise\"]:\n",
    "        pca_perfs.append(\n",
    "            {\n",
    "                \"Target\": target_name,\n",
    "                \"Features version\": version,\n",
    "                \"Train precision\": f\"{training_pca_results[version][target_name]['train_precision']:.3f}\",\n",
    "                \"Train accuracy\": f\"{training_pca_results[version][target_name]['train_accuracy']:.3f}\",\n",
    "                \"Validation precision\": f\"{training_pca_results[version][target_name]['val_precision']:.3f}\",\n",
    "                \"Validation accuracy\": f\"{training_pca_results[version][target_name]['val_accuracy']:.3f}\",\n",
    "                \"Test precision\": f\"{test_pca_results[version][target_name]['precision']:.3f}\",\n",
    "                \"Test accuracy\": f\"{test_pca_results[version][target_name]['accuracy']:.3f}\"\n",
    "            }\n",
    "        )\n",
    "\n",
    "pca_perfs_df = pd.DataFrame(pca_perfs)\n",
    "pca_perfs_df\n"
   ],
   "id": "1813a77d50f11f49",
   "outputs": [
    {
     "data": {
      "text/plain": [
       "                    Target Features version Train precision Train accuracy  \\\n",
       "0  average_rating_category         original           0.521          0.539   \n",
       "1  average_rating_category            noise           0.520          0.539   \n",
       "\n",
       "  Validation precision Validation accuracy Test precision Test accuracy  \n",
       "0                0.520               0.538          0.497         0.517  \n",
       "1                0.518               0.536          0.419         0.467  "
      ],
      "text/html": [
       "<div>\n",
       "<style scoped>\n",
       "    .dataframe tbody tr th:only-of-type {\n",
       "        vertical-align: middle;\n",
       "    }\n",
       "\n",
       "    .dataframe tbody tr th {\n",
       "        vertical-align: top;\n",
       "    }\n",
       "\n",
       "    .dataframe thead th {\n",
       "        text-align: right;\n",
       "    }\n",
       "</style>\n",
       "<table border=\"1\" class=\"dataframe\">\n",
       "  <thead>\n",
       "    <tr style=\"text-align: right;\">\n",
       "      <th></th>\n",
       "      <th>Target</th>\n",
       "      <th>Features version</th>\n",
       "      <th>Train precision</th>\n",
       "      <th>Train accuracy</th>\n",
       "      <th>Validation precision</th>\n",
       "      <th>Validation accuracy</th>\n",
       "      <th>Test precision</th>\n",
       "      <th>Test accuracy</th>\n",
       "    </tr>\n",
       "  </thead>\n",
       "  <tbody>\n",
       "    <tr>\n",
       "      <th>0</th>\n",
       "      <td>average_rating_category</td>\n",
       "      <td>original</td>\n",
       "      <td>0.521</td>\n",
       "      <td>0.539</td>\n",
       "      <td>0.520</td>\n",
       "      <td>0.538</td>\n",
       "      <td>0.497</td>\n",
       "      <td>0.517</td>\n",
       "    </tr>\n",
       "    <tr>\n",
       "      <th>1</th>\n",
       "      <td>average_rating_category</td>\n",
       "      <td>noise</td>\n",
       "      <td>0.520</td>\n",
       "      <td>0.539</td>\n",
       "      <td>0.518</td>\n",
       "      <td>0.536</td>\n",
       "      <td>0.419</td>\n",
       "      <td>0.467</td>\n",
       "    </tr>\n",
       "  </tbody>\n",
       "</table>\n",
       "</div>"
      ]
     },
     "execution_count": 27,
     "metadata": {},
     "output_type": "execute_result"
    }
   ],
   "execution_count": 27
  },
  {
   "metadata": {},
   "cell_type": "markdown",
   "source": [
    "- No overfitting case was discovered for original or noisy features during model training.\n",
    "- Noisy features are doing slightly worse in terms of accuracy and precision on the test set compared to the original features, so we won't proceed further with them.\n",
    "- Choosing a cutoff of 0.5 to categorize the books into \"low\" and \"high\" quality is only doing slightly better than using a dummy classifier that will always predict \"low\" or \"high\" for all books.\n",
    "- We will do some more thorough hyperparameter tuning to find the best set of hyperparameters (if possible) for the logistic regression model that will improve specially the precision."
   ],
   "id": "2baf1e6a7b3de093"
  },
  {
   "metadata": {},
   "cell_type": "markdown",
   "source": "### pca + logistic regression (optimized)",
   "id": "8852d8113b20334c"
  },
  {
   "metadata": {
    "ExecuteTime": {
     "end_time": "2025-02-06T19:45:52.661099Z",
     "start_time": "2025-02-06T19:45:52.658392Z"
    }
   },
   "cell_type": "code",
   "source": "",
   "id": "264afc6329fdc451",
   "outputs": [],
   "execution_count": null
  },
  {
   "metadata": {
    "ExecuteTime": {
     "end_time": "2025-02-06T19:45:52.700818Z",
     "start_time": "2025-02-06T19:45:52.697376Z"
    }
   },
   "cell_type": "code",
   "source": "",
   "id": "e7f94745189146cd",
   "outputs": [],
   "execution_count": null
  },
  {
   "metadata": {
    "ExecuteTime": {
     "end_time": "2025-02-06T19:45:52.951174Z",
     "start_time": "2025-02-06T19:45:52.745536Z"
    }
   },
   "cell_type": "code",
   "source": "gc.collect()",
   "id": "26e13cfdfd78d9a3",
   "outputs": [
    {
     "data": {
      "text/plain": [
       "54"
      ]
     },
     "execution_count": 28,
     "metadata": {},
     "output_type": "execute_result"
    }
   ],
   "execution_count": 28
  },
  {
   "metadata": {
    "ExecuteTime": {
     "end_time": "2025-02-06T19:45:53.028572Z",
     "start_time": "2025-02-06T19:45:53.026066Z"
    }
   },
   "cell_type": "code",
   "source": "",
   "id": "c1968bb8d0c100ed",
   "outputs": [],
   "execution_count": null
  }
 ],
 "metadata": {
  "kernelspec": {
   "display_name": "Python 3",
   "language": "python",
   "name": "python3"
  },
  "language_info": {
   "codemirror_mode": {
    "name": "ipython",
    "version": 2
   },
   "file_extension": ".py",
   "mimetype": "text/x-python",
   "name": "python",
   "nbconvert_exporter": "python",
   "pygments_lexer": "ipython2",
   "version": "2.7.6"
  }
 },
 "nbformat": 4,
 "nbformat_minor": 5
}
